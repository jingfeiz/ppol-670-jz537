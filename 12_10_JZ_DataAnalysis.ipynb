{
 "cells": [
  {
   "cell_type": "code",
   "execution_count": 1,
   "metadata": {},
   "outputs": [],
   "source": [
    "#import models\n",
    "import numpy as np\n",
    "import pandas as pd\n",
    "import matplotlib.pyplot as plt\n",
    "import graphviz \n",
    "from sklearn import tree\n",
    "from sklearn.ensemble import RandomForestClassifier\n",
    "from sklearn.model_selection import cross_val_score\n",
    "from sklearn.model_selection import train_test_split\n",
    "from sklearn.metrics import accuracy_score"
   ]
  },
  {
   "cell_type": "code",
   "execution_count": null,
   "metadata": {},
   "outputs": [],
   "source": [
    "# Load data: CPS cleaned data from IPUMS for November 2006, 2011, 2016\n",
    "data = pd.read_csv('IPUMS_CPS_Clean.csv')\n",
    "\n",
    "# Check data importation\n",
    "data.head()"
   ]
  },
  {
   "cell_type": "markdown",
   "metadata": {},
   "source": [
    "## Model 1 - Is year an important feature on which to split?"
   ]
  },
  {
   "cell_type": "code",
   "execution_count": 39,
   "metadata": {},
   "outputs": [],
   "source": [
    "# Create a feature matrix and target array from all the data \n",
    "X = data_enc2[['STATEFIP2',\n",
    "                     'METRO2',\n",
    "                     'FAMINC',\n",
    "                      'AGE',\n",
    "                      'OCC',\n",
    "                      'IND',\n",
    "                      'YRIMMIG2',\n",
    "                      'RACE2',\n",
    "                      'SEX2',\n",
    "                      'MARST2',\n",
    "                      'CITIZEN2',\n",
    "                      'EDUC2',\n",
    "                      'VETSTAT2',\n",
    "                      'YEAR']]\n",
    "\n",
    "Y = data_enc2['EMPSTAT2']"
   ]
  },
  {
   "cell_type": "code",
   "execution_count": 9,
   "metadata": {},
   "outputs": [
    {
     "data": {
      "text/plain": [
       "DecisionTreeClassifier(class_weight=None, criterion='gini', max_depth=None,\n",
       "            max_features=None, max_leaf_nodes=None,\n",
       "            min_impurity_decrease=0.0, min_impurity_split=None,\n",
       "            min_samples_leaf=1, min_samples_split=2,\n",
       "            min_weight_fraction_leaf=0.0, presort=False, random_state=None,\n",
       "            splitter='best')"
      ]
     },
     "execution_count": 9,
     "metadata": {},
     "output_type": "execute_result"
    }
   ],
   "source": [
    "#Create a decision tree classifier (initial step)\n",
    "model_all = tree.DecisionTreeClassifier()\n",
    "model_all.fit(X, Y)"
   ]
  },
  {
   "cell_type": "code",
   "execution_count": 10,
   "metadata": {},
   "outputs": [
    {
     "data": {
      "text/plain": [
       "[('STATEFIP2', 0.07284657531044726),\n",
       " ('METRO2', 0.02653816929469322),\n",
       " ('FAMINC', 0.04606267453746448),\n",
       " ('AGE', 0.07001562289566),\n",
       " ('OCC', 0.035743297217047616),\n",
       " ('IND', 0.5642743927387073),\n",
       " ('YRIMMIG2', 0.012599565972254211),\n",
       " ('DIFFANY2', 0.04186216033772473),\n",
       " ('RACE2', 0.012911073464721718),\n",
       " ('SEX2', 0.012858132925493109),\n",
       " ('MARST2', 0.019688356911891334),\n",
       " ('CITIZEN2', 0.006009689281593116),\n",
       " ('EDUC2', 0.029778111804721077),\n",
       " ('SCHLCOLL2', 0.00680731724910323),\n",
       " ('VETSTAT2', 0.03195422930535203),\n",
       " ('YEAR', 0.010050630753125567)]"
      ]
     },
     "execution_count": 10,
     "metadata": {},
     "output_type": "execute_result"
    }
   ],
   "source": [
    "#For the model with all the years, is year an important feature on which to split?\n",
    "list(zip(X.columns, model_all.feature_importances_))"
   ]
  },
  {
   "cell_type": "code",
   "execution_count": 11,
   "metadata": {},
   "outputs": [
    {
     "data": {
      "text/plain": [
       "[('IND', 0.5642743927387073),\n",
       " ('STATEFIP2', 0.07284657531044726),\n",
       " ('AGE', 0.07001562289566),\n",
       " ('FAMINC', 0.04606267453746448),\n",
       " ('DIFFANY2', 0.04186216033772473),\n",
       " ('OCC', 0.035743297217047616),\n",
       " ('VETSTAT2', 0.03195422930535203),\n",
       " ('EDUC2', 0.029778111804721077),\n",
       " ('METRO2', 0.02653816929469322),\n",
       " ('MARST2', 0.019688356911891334),\n",
       " ('RACE2', 0.012911073464721718),\n",
       " ('SEX2', 0.012858132925493109),\n",
       " ('YRIMMIG2', 0.012599565972254211),\n",
       " ('YEAR', 0.010050630753125567),\n",
       " ('SCHLCOLL2', 0.00680731724910323),\n",
       " ('CITIZEN2', 0.006009689281593116)]"
      ]
     },
     "execution_count": 11,
     "metadata": {},
     "output_type": "execute_result"
    }
   ],
   "source": [
    "sorted(list(zip(X.columns, model_all.feature_importances_)), key = lambda x: -x[1])"
   ]
  },
  {
   "cell_type": "markdown",
   "metadata": {},
   "source": [
    "## Method 2:  General Forest Classifier"
   ]
  },
  {
   "cell_type": "code",
   "execution_count": 12,
   "metadata": {},
   "outputs": [
    {
     "name": "stdout",
     "output_type": "stream",
     "text": [
      "X train: (121065, 16) \n",
      "y train: (121065,)\n",
      "X test: (40355, 16) \n",
      "y test: (40355,)\n"
     ]
    }
   ],
   "source": [
    "# Split the data into a training set and test set\n",
    "Xtrain, Xtest, ytrain, ytest = train_test_split(X, Y, random_state=3)\n",
    "print('X train:', Xtrain.shape, '\\ny train:', ytrain.shape)\n",
    "print('X test:', Xtest.shape, '\\ny test:', ytest.shape)"
   ]
  },
  {
   "cell_type": "code",
   "execution_count": 13,
   "metadata": {},
   "outputs": [
    {
     "data": {
      "text/plain": [
       "RandomForestClassifier(bootstrap=True, class_weight=None, criterion='gini',\n",
       "            max_depth=None, max_features='auto', max_leaf_nodes=None,\n",
       "            min_impurity_decrease=0.0, min_impurity_split=None,\n",
       "            min_samples_leaf=1, min_samples_split=2,\n",
       "            min_weight_fraction_leaf=0.0, n_estimators=1000, n_jobs=1,\n",
       "            oob_score=False, random_state=0, verbose=0, warm_start=False)"
      ]
     },
     "execution_count": 13,
     "metadata": {},
     "output_type": "execute_result"
    }
   ],
   "source": [
    "# Build a random forest classifier model\n",
    "model_RFC_All = RandomForestClassifier(n_estimators=1000,random_state=0)\n",
    "\n",
    "# Fit the model\n",
    "model_RFC_All.fit(Xtrain, ytrain)"
   ]
  },
  {
   "cell_type": "code",
   "execution_count": 14,
   "metadata": {},
   "outputs": [
    {
     "data": {
      "text/plain": [
       "0.9203320530293644"
      ]
     },
     "execution_count": 14,
     "metadata": {},
     "output_type": "execute_result"
    }
   ],
   "source": [
    "# Predict and test accuracy\n",
    "y_model_RFC_All = model_RFC_All.predict(Xtest)\n",
    "\n",
    "accuracy_score(ytest, y_model_RFC_All)"
   ]
  },
  {
   "cell_type": "code",
   "execution_count": 15,
   "metadata": {},
   "outputs": [
    {
     "data": {
      "text/plain": [
       "[('IND', 0.30996335068854364),\n",
       " ('OCC', 0.28082731313357295),\n",
       " ('AGE', 0.07293261362940148),\n",
       " ('STATEFIP2', 0.06802102511377454),\n",
       " ('FAMINC', 0.060516690075342404),\n",
       " ('DIFFANY2', 0.040387101893069745),\n",
       " ('EDUC2', 0.028946198797075075),\n",
       " ('METRO2', 0.025504018449289723),\n",
       " ('VETSTAT2', 0.020909869815157717),\n",
       " ('SEX2', 0.02004826090564637),\n",
       " ('MARST2', 0.01942370518285479),\n",
       " ('RACE2', 0.013139874823502783),\n",
       " ('YRIMMIG2', 0.012682297908172052),\n",
       " ('YEAR', 0.009904818791766126),\n",
       " ('CITIZEN2', 0.00855625149585939),\n",
       " ('SCHLCOLL2', 0.00823660929697117)]"
      ]
     },
     "execution_count": 15,
     "metadata": {},
     "output_type": "execute_result"
    }
   ],
   "source": [
    "# Sort variable importances\n",
    "sorted(list(zip(X.columns, model_RFC_All.feature_importances_)), key = lambda x: -x[1])"
   ]
  },
  {
   "cell_type": "markdown",
   "metadata": {},
   "source": [
    "## Method 3:  Compare Variable Importance in each year"
   ]
  },
  {
   "cell_type": "code",
   "execution_count": 16,
   "metadata": {},
   "outputs": [],
   "source": [
    "# When we don't have the data already here, this is there cell where we will import the clean data."
   ]
  },
  {
   "cell_type": "code",
   "execution_count": 40,
   "metadata": {},
   "outputs": [
    {
     "name": "stdout",
     "output_type": "stream",
     "text": [
      "STATEFIP2    0\n",
      "METRO2       0\n",
      "FAMINC       0\n",
      "AGE          0\n",
      "OCC          0\n",
      "IND          0\n",
      "YRIMMIG2     0\n",
      "RACE2        0\n",
      "SEX2         0\n",
      "MARST2       0\n",
      "CITIZEN2     0\n",
      "EDUC2        0\n",
      "VETSTAT2     0\n",
      "EMPSTAT2     0\n",
      "dtype: int64\n",
      "STATEFIP2    0\n",
      "METRO2       0\n",
      "FAMINC       0\n",
      "AGE          0\n",
      "OCC          0\n",
      "IND          0\n",
      "YRIMMIG2     0\n",
      "RACE2        0\n",
      "SEX2         0\n",
      "MARST2       0\n",
      "CITIZEN2     0\n",
      "EDUC2        0\n",
      "VETSTAT2     0\n",
      "EMPSTAT2     0\n",
      "dtype: int64\n",
      "STATEFIP2    0\n",
      "METRO2       0\n",
      "FAMINC       0\n",
      "AGE          0\n",
      "OCC          0\n",
      "IND          0\n",
      "YRIMMIG2     0\n",
      "RACE2        0\n",
      "SEX2         0\n",
      "MARST2       0\n",
      "CITIZEN2     0\n",
      "EDUC2        0\n",
      "VETSTAT2     0\n",
      "EMPSTAT2     0\n",
      "dtype: int64\n"
     ]
    }
   ],
   "source": [
    "# Check for missing data\n",
    "dataset = [data2006, data2011, data2016]\n",
    "for data in dataset:\n",
    "    print(data.isnull().sum())"
   ]
  },
  {
   "cell_type": "code",
   "execution_count": 49,
   "metadata": {},
   "outputs": [
    {
     "name": "stdout",
     "output_type": "stream",
     "text": [
      "The accuracy score of the 2006 model:\n",
      "[0.92519685 0.9259713  0.9260588  0.92639594 0.92657098]\n",
      "The accuracy score of predicting 2011 data with the 2006 model:\n",
      "0.8915210573476703\n",
      "The accuracy score of the prediction 2016 data with the 2006 model:\n",
      "0.91457980044958\n",
      "\n",
      "\n",
      "The accuracy score of the 2011 model:\n",
      "[0.20098908 0.87204853 0.88574629 0.89105676 0.89142004]\n",
      "The accuracy score of predicting 2016 data with the 2011 model:\n",
      "0.9145206451867335\n",
      "The accuracy score of the prediction 2006 data with the 2011 model:\n",
      "0.9241310511393468\n",
      "\n",
      "\n",
      "The accuracy score of the 2016 model:\n",
      "[0.21249754 0.9107759  0.91204891 0.9135279  0.90464451]\n",
      "The accuracy score of predicting 2006 data with the 2016 model:\n",
      "0.9244460779166229\n",
      "The accuracy score of the prediction 2011 data with the 2016 model:\n",
      "0.8937051971326165\n",
      "\n",
      "\n"
     ]
    }
   ],
   "source": [
    "# Create list of datasets\n",
    "dataset1 = [data2006, data2011, data2016]\n",
    "dataset2 = [data2011, data2016, data2006]\n",
    "dataset3 = [data2016, data2006, data2011]\n",
    "yearlist1 = ['2006', '2011', '2016']\n",
    "yearlist2 = ['2011', '2016', '2006']\n",
    "yearlist3 = ['2016', '2006', '2011']\n",
    "\n",
    "# Create a master variable importance dataframe\n",
    "var = data2006.drop(['EMPSTAT2'],axis=1)\n",
    "Var = pd.DataFrame(data=x)\n",
    "importance_all = pd.DataFrame({'Variable_Name':Var.columns.values})\n",
    "\n",
    "# Create a loop for all years\n",
    "for data1,data2,data3,year1,year2,year3 in zip(dataset1,dataset2,dataset3,yearlist1,yearlist2,yearlist3):\n",
    "    # Create a feature matrix and target array for the fitting year\n",
    "    x1 = data1.drop(['EMPSTAT2'],axis=1)\n",
    "    X1 = pd.DataFrame(data=x1)\n",
    "    Y1 = data1['EMPSTAT2']\n",
    "    \n",
    "    # Build a random forest classifier model\n",
    "    RFC_model = RandomForestClassifier(n_estimators=1000,random_state=0)\n",
    "    \n",
    "    # Fit the model with the fitting year\n",
    "    RFC_model.fit(X1, Y1)\n",
    "    \n",
    "    # Calculate the accuracy score of the model\n",
    "    print(\"The accuracy score of the {} model:\".format(year1))\n",
    "    print(cross_val_score(RFC_model, X1, Y1, cv = 5))\n",
    "    \n",
    "    # Extract the variable importances\n",
    "    importance = RFC_model.feature_importances_\n",
    "    importance_2 = pd.DataFrame({'Variable_Name':X1.columns.values, 'Variable_Importance':importance})\n",
    "    \n",
    "    # Merge the variable importances to the master dataframe\n",
    "    importance_all = pd.merge(importance_all, importance_2, how = 'left', on = ['Variable_Name'])\n",
    "    \n",
    "    # Create a feature matrix and target array for the predicting year\n",
    "    x2 = data2.drop(['EMPSTAT2'],axis=1)\n",
    "    X2 = pd.DataFrame(data=x2)\n",
    "    Y2 = data2['EMPSTAT2']\n",
    "    \n",
    "    # Predict with the model\n",
    "    Y2_predict = RFC_model.predict(X2)\n",
    "    \n",
    "    # Calculate the accuracy score of the prediction\n",
    "    print(\"The accuracy score of predicting {} data \".format(year2)+\"with the {} model:\".format(year1))\n",
    "    print(accuracy_score(Y2, Y2_predict))\n",
    "    \n",
    "    # Create a feature matrix and target array for the other predicting year\n",
    "    x3 = data3.drop(['EMPSTAT2'],axis=1)\n",
    "    X3 = pd.DataFrame(data=x3)\n",
    "    Y3 = data3['EMPSTAT2']\n",
    "    \n",
    "    # Predict with the model\n",
    "    Y3_predict = RFC_model.predict(X3)\n",
    "    \n",
    "    # Calculate the accuracy score of the prediction\n",
    "    print(\"The accuracy score of the prediction {} data \".format(year3)+\"with the {} model:\".format(year1))\n",
    "    print(accuracy_score(Y3, Y3_predict))\n",
    "    print(\"\\n\")"
   ]
  },
  {
   "cell_type": "code",
   "execution_count": 50,
   "metadata": {},
   "outputs": [
    {
     "data": {
      "text/html": [
       "<div>\n",
       "<style scoped>\n",
       "    .dataframe tbody tr th:only-of-type {\n",
       "        vertical-align: middle;\n",
       "    }\n",
       "\n",
       "    .dataframe tbody tr th {\n",
       "        vertical-align: top;\n",
       "    }\n",
       "\n",
       "    .dataframe thead th {\n",
       "        text-align: right;\n",
       "    }\n",
       "</style>\n",
       "<table border=\"1\" class=\"dataframe\">\n",
       "  <thead>\n",
       "    <tr style=\"text-align: right;\">\n",
       "      <th></th>\n",
       "      <th>Variable_Name</th>\n",
       "      <th>Variable_Importance_2006</th>\n",
       "      <th>Variable_Importance_2011</th>\n",
       "      <th>Variable_Importance_2016</th>\n",
       "    </tr>\n",
       "  </thead>\n",
       "  <tbody>\n",
       "    <tr>\n",
       "      <th>5</th>\n",
       "      <td>IND</td>\n",
       "      <td>0.313114</td>\n",
       "      <td>0.286642</td>\n",
       "      <td>0.303606</td>\n",
       "    </tr>\n",
       "    <tr>\n",
       "      <th>4</th>\n",
       "      <td>OCC</td>\n",
       "      <td>0.304326</td>\n",
       "      <td>0.283482</td>\n",
       "      <td>0.303234</td>\n",
       "    </tr>\n",
       "    <tr>\n",
       "      <th>3</th>\n",
       "      <td>AGE</td>\n",
       "      <td>0.081052</td>\n",
       "      <td>0.090585</td>\n",
       "      <td>0.083680</td>\n",
       "    </tr>\n",
       "    <tr>\n",
       "      <th>0</th>\n",
       "      <td>STATEFIP2</td>\n",
       "      <td>0.074160</td>\n",
       "      <td>0.084710</td>\n",
       "      <td>0.074376</td>\n",
       "    </tr>\n",
       "    <tr>\n",
       "      <th>2</th>\n",
       "      <td>FAMINC</td>\n",
       "      <td>0.067572</td>\n",
       "      <td>0.081343</td>\n",
       "      <td>0.069537</td>\n",
       "    </tr>\n",
       "    <tr>\n",
       "      <th>11</th>\n",
       "      <td>EDUC2</td>\n",
       "      <td>0.031046</td>\n",
       "      <td>0.036182</td>\n",
       "      <td>0.033133</td>\n",
       "    </tr>\n",
       "    <tr>\n",
       "      <th>1</th>\n",
       "      <td>METRO2</td>\n",
       "      <td>0.026209</td>\n",
       "      <td>0.029715</td>\n",
       "      <td>0.026948</td>\n",
       "    </tr>\n",
       "    <tr>\n",
       "      <th>12</th>\n",
       "      <td>VETSTAT2</td>\n",
       "      <td>0.021714</td>\n",
       "      <td>0.019994</td>\n",
       "      <td>0.023993</td>\n",
       "    </tr>\n",
       "    <tr>\n",
       "      <th>9</th>\n",
       "      <td>MARST2</td>\n",
       "      <td>0.022266</td>\n",
       "      <td>0.022970</td>\n",
       "      <td>0.021175</td>\n",
       "    </tr>\n",
       "    <tr>\n",
       "      <th>8</th>\n",
       "      <td>SEX2</td>\n",
       "      <td>0.023939</td>\n",
       "      <td>0.021303</td>\n",
       "      <td>0.020147</td>\n",
       "    </tr>\n",
       "    <tr>\n",
       "      <th>7</th>\n",
       "      <td>RACE2</td>\n",
       "      <td>0.013559</td>\n",
       "      <td>0.015865</td>\n",
       "      <td>0.015981</td>\n",
       "    </tr>\n",
       "    <tr>\n",
       "      <th>6</th>\n",
       "      <td>YRIMMIG2</td>\n",
       "      <td>0.012154</td>\n",
       "      <td>0.016174</td>\n",
       "      <td>0.014237</td>\n",
       "    </tr>\n",
       "    <tr>\n",
       "      <th>10</th>\n",
       "      <td>CITIZEN2</td>\n",
       "      <td>0.008889</td>\n",
       "      <td>0.011034</td>\n",
       "      <td>0.009952</td>\n",
       "    </tr>\n",
       "  </tbody>\n",
       "</table>\n",
       "</div>"
      ],
      "text/plain": [
       "   Variable_Name  Variable_Importance_2006  Variable_Importance_2011  \\\n",
       "5            IND                  0.313114                  0.286642   \n",
       "4            OCC                  0.304326                  0.283482   \n",
       "3            AGE                  0.081052                  0.090585   \n",
       "0      STATEFIP2                  0.074160                  0.084710   \n",
       "2         FAMINC                  0.067572                  0.081343   \n",
       "11         EDUC2                  0.031046                  0.036182   \n",
       "1         METRO2                  0.026209                  0.029715   \n",
       "12      VETSTAT2                  0.021714                  0.019994   \n",
       "9         MARST2                  0.022266                  0.022970   \n",
       "8           SEX2                  0.023939                  0.021303   \n",
       "7          RACE2                  0.013559                  0.015865   \n",
       "6       YRIMMIG2                  0.012154                  0.016174   \n",
       "10      CITIZEN2                  0.008889                  0.011034   \n",
       "\n",
       "    Variable_Importance_2016  \n",
       "5                   0.303606  \n",
       "4                   0.303234  \n",
       "3                   0.083680  \n",
       "0                   0.074376  \n",
       "2                   0.069537  \n",
       "11                  0.033133  \n",
       "1                   0.026948  \n",
       "12                  0.023993  \n",
       "9                   0.021175  \n",
       "8                   0.020147  \n",
       "7                   0.015981  \n",
       "6                   0.014237  \n",
       "10                  0.009952  "
      ]
     },
     "execution_count": 50,
     "metadata": {},
     "output_type": "execute_result"
    }
   ],
   "source": [
    "# Change the column name of the master variable importance dataframe\n",
    "importance_all = importance_all.rename(index=str, columns={\"Variable_Importance_x\": \"Variable_Importance_2006\", \"Variable_Importance_y\": \"Variable_Importance_2011\",\"Variable_Importance\": \"Variable_Importance_2016\"})\n",
    "\n",
    "# Sort the dataframe by the variable importances in the 2016 model\n",
    "importance_all = importance_all.sort_values(by = \"Variable_Importance_2016\", ascending = False)\n",
    "\n",
    "# Print the variable importances\n",
    "importance_all"
   ]
  },
  {
   "cell_type": "code",
   "execution_count": 51,
   "metadata": {},
   "outputs": [
    {
     "data": {
      "text/plain": [
       "<matplotlib.axes._subplots.AxesSubplot at 0x18e20ffeac8>"
      ]
     },
     "execution_count": 51,
     "metadata": {},
     "output_type": "execute_result"
    },
    {
     "data": {
      "image/png": "[encoded data removed]",
      "text/plain": [
       "<Figure size 1152x288 with 1 Axes>"
      ]
     },
     "metadata": {},
     "output_type": "display_data"
    }
   ],
   "source": [
    "# plot the variable importances\n",
    "importance_all.plot.bar(x='Variable_Name',rot=0, title = 'Importances for Predicting UE', figsize=(16,4))"
   ]
  }
 ],
 "metadata": {
  "kernelspec": {
   "display_name": "Python 3",
   "language": "python",
   "name": "python3"
  },
  "language_info": {
   "codemirror_mode": {
    "name": "ipython",
    "version": 3
   },
   "file_extension": ".py",
   "mimetype": "text/x-python",
   "name": "python",
   "nbconvert_exporter": "python",
   "pygments_lexer": "ipython3",
   "version": "3.6.5"
  }
 },
 "nbformat": 4,
 "nbformat_minor": 2
}
