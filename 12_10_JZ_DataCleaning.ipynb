{
 "cells": [
  {
   "cell_type": "markdown",
   "metadata": {},
   "source": [
    "# Appendix A: Data Cleaning"
   ]
  },
  {
   "cell_type": "markdown",
   "metadata": {},
   "source": [
    "## Prepare Data"
   ]
  },
  {
   "cell_type": "code",
   "execution_count": 43,
   "metadata": {},
   "outputs": [],
   "source": [
    "import pandas as pd\n",
    "import numpy as np\n",
    "import matplotlib.pyplot as plt\n",
    "import scipy.stats as stats\n",
    "from scipy.stats import chi2_contingency\n",
    "from scipy.stats import chi2\n",
    "from sklearn.preprocessing import LabelEncoder"
   ]
  },
  {
   "cell_type": "code",
   "execution_count": 44,
   "metadata": {},
   "outputs": [
    {
     "data": {
      "text/html": [
       "<div>\n",
       "<style scoped>\n",
       "    .dataframe tbody tr th:only-of-type {\n",
       "        vertical-align: middle;\n",
       "    }\n",
       "\n",
       "    .dataframe tbody tr th {\n",
       "        vertical-align: top;\n",
       "    }\n",
       "\n",
       "    .dataframe thead th {\n",
       "        text-align: right;\n",
       "    }\n",
       "</style>\n",
       "<table border=\"1\" class=\"dataframe\">\n",
       "  <thead>\n",
       "    <tr style=\"text-align: right;\">\n",
       "      <th></th>\n",
       "      <th>YEAR</th>\n",
       "      <th>SERIAL</th>\n",
       "      <th>MONTH</th>\n",
       "      <th>HWTFINL</th>\n",
       "      <th>CPSID</th>\n",
       "      <th>REGION</th>\n",
       "      <th>STATEFIP</th>\n",
       "      <th>METRO</th>\n",
       "      <th>COUNTY</th>\n",
       "      <th>FAMINC</th>\n",
       "      <th>...</th>\n",
       "      <th>OCC</th>\n",
       "      <th>IND</th>\n",
       "      <th>CLASSWKR</th>\n",
       "      <th>DURUNEMP</th>\n",
       "      <th>WHYUNEMP</th>\n",
       "      <th>WKSTAT</th>\n",
       "      <th>NUMJOB</th>\n",
       "      <th>EDUC</th>\n",
       "      <th>SCHLCOLL</th>\n",
       "      <th>DIFFANY</th>\n",
       "    </tr>\n",
       "  </thead>\n",
       "  <tbody>\n",
       "    <tr>\n",
       "      <th>0</th>\n",
       "      <td>2006</td>\n",
       "      <td>1</td>\n",
       "      <td>11</td>\n",
       "      <td>2410.8311</td>\n",
       "      <td>20050802654600</td>\n",
       "      <td>32</td>\n",
       "      <td>1</td>\n",
       "      <td>1</td>\n",
       "      <td>1003</td>\n",
       "      <td>600</td>\n",
       "      <td>...</td>\n",
       "      <td>5820</td>\n",
       "      <td>6990</td>\n",
       "      <td>22</td>\n",
       "      <td>999</td>\n",
       "      <td>0</td>\n",
       "      <td>11</td>\n",
       "      <td>0</td>\n",
       "      <td>73</td>\n",
       "      <td>0</td>\n",
       "      <td>NaN</td>\n",
       "    </tr>\n",
       "    <tr>\n",
       "      <th>1</th>\n",
       "      <td>2006</td>\n",
       "      <td>1</td>\n",
       "      <td>11</td>\n",
       "      <td>2410.8311</td>\n",
       "      <td>20050802654600</td>\n",
       "      <td>32</td>\n",
       "      <td>1</td>\n",
       "      <td>1</td>\n",
       "      <td>1003</td>\n",
       "      <td>600</td>\n",
       "      <td>...</td>\n",
       "      <td>0</td>\n",
       "      <td>0</td>\n",
       "      <td>0</td>\n",
       "      <td>999</td>\n",
       "      <td>0</td>\n",
       "      <td>99</td>\n",
       "      <td>0</td>\n",
       "      <td>1</td>\n",
       "      <td>0</td>\n",
       "      <td>NaN</td>\n",
       "    </tr>\n",
       "    <tr>\n",
       "      <th>2</th>\n",
       "      <td>2006</td>\n",
       "      <td>2</td>\n",
       "      <td>11</td>\n",
       "      <td>3253.7650</td>\n",
       "      <td>20050902383200</td>\n",
       "      <td>32</td>\n",
       "      <td>1</td>\n",
       "      <td>1</td>\n",
       "      <td>1003</td>\n",
       "      <td>500</td>\n",
       "      <td>...</td>\n",
       "      <td>730</td>\n",
       "      <td>7070</td>\n",
       "      <td>22</td>\n",
       "      <td>999</td>\n",
       "      <td>0</td>\n",
       "      <td>11</td>\n",
       "      <td>0</td>\n",
       "      <td>81</td>\n",
       "      <td>0</td>\n",
       "      <td>NaN</td>\n",
       "    </tr>\n",
       "    <tr>\n",
       "      <th>3</th>\n",
       "      <td>2006</td>\n",
       "      <td>3</td>\n",
       "      <td>11</td>\n",
       "      <td>2754.1651</td>\n",
       "      <td>20051006048500</td>\n",
       "      <td>32</td>\n",
       "      <td>1</td>\n",
       "      <td>1</td>\n",
       "      <td>1003</td>\n",
       "      <td>996</td>\n",
       "      <td>...</td>\n",
       "      <td>0</td>\n",
       "      <td>0</td>\n",
       "      <td>0</td>\n",
       "      <td>999</td>\n",
       "      <td>0</td>\n",
       "      <td>99</td>\n",
       "      <td>0</td>\n",
       "      <td>125</td>\n",
       "      <td>0</td>\n",
       "      <td>NaN</td>\n",
       "    </tr>\n",
       "    <tr>\n",
       "      <th>4</th>\n",
       "      <td>2006</td>\n",
       "      <td>3</td>\n",
       "      <td>11</td>\n",
       "      <td>2754.1651</td>\n",
       "      <td>20051006048500</td>\n",
       "      <td>32</td>\n",
       "      <td>1</td>\n",
       "      <td>1</td>\n",
       "      <td>1003</td>\n",
       "      <td>996</td>\n",
       "      <td>...</td>\n",
       "      <td>0</td>\n",
       "      <td>0</td>\n",
       "      <td>0</td>\n",
       "      <td>999</td>\n",
       "      <td>0</td>\n",
       "      <td>99</td>\n",
       "      <td>0</td>\n",
       "      <td>91</td>\n",
       "      <td>0</td>\n",
       "      <td>NaN</td>\n",
       "    </tr>\n",
       "  </tbody>\n",
       "</table>\n",
       "<p>5 rows × 33 columns</p>\n",
       "</div>"
      ],
      "text/plain": [
       "   YEAR  SERIAL  MONTH    HWTFINL           CPSID  REGION  STATEFIP  METRO  \\\n",
       "0  2006       1     11  2410.8311  20050802654600      32         1      1   \n",
       "1  2006       1     11  2410.8311  20050802654600      32         1      1   \n",
       "2  2006       2     11  3253.7650  20050902383200      32         1      1   \n",
       "3  2006       3     11  2754.1651  20051006048500      32         1      1   \n",
       "4  2006       3     11  2754.1651  20051006048500      32         1      1   \n",
       "\n",
       "   COUNTY  FAMINC   ...      OCC   IND  CLASSWKR  DURUNEMP  WHYUNEMP  WKSTAT  \\\n",
       "0    1003     600   ...     5820  6990        22       999         0      11   \n",
       "1    1003     600   ...        0     0         0       999         0      99   \n",
       "2    1003     500   ...      730  7070        22       999         0      11   \n",
       "3    1003     996   ...        0     0         0       999         0      99   \n",
       "4    1003     996   ...        0     0         0       999         0      99   \n",
       "\n",
       "   NUMJOB  EDUC  SCHLCOLL  DIFFANY  \n",
       "0       0    73         0      NaN  \n",
       "1       0     1         0      NaN  \n",
       "2       0    81         0      NaN  \n",
       "3       0   125         0      NaN  \n",
       "4       0    91         0      NaN  \n",
       "\n",
       "[5 rows x 33 columns]"
      ]
     },
     "execution_count": 44,
     "metadata": {},
     "output_type": "execute_result"
    }
   ],
   "source": [
    "# Load data: CPS micro data from IPUMS for November 2006, 2011, 2016\n",
    "data = pd.read_csv('IPUMS_CPS_181104.csv')\n",
    "\n",
    "# Check data importation\n",
    "data.head()"
   ]
  },
  {
   "cell_type": "markdown",
   "metadata": {},
   "source": [
    "## Clean Data"
   ]
  },
  {
   "cell_type": "markdown",
   "metadata": {},
   "source": [
    "Variable: AGE"
   ]
  },
  {
   "cell_type": "code",
   "execution_count": 45,
   "metadata": {
    "scrolled": true
   },
   "outputs": [
    {
     "data": {
      "text/plain": [
       "count    161420.000000\n",
       "mean         39.869576\n",
       "std           8.666890\n",
       "min          25.000000\n",
       "25%          32.000000\n",
       "50%          40.000000\n",
       "75%          47.000000\n",
       "max          54.000000\n",
       "Name: AGE, dtype: float64"
      ]
     },
     "execution_count": 45,
     "metadata": {},
     "output_type": "execute_result"
    }
   ],
   "source": [
    "# In our analysis, we want to look at the prime-age workforce, so we will restrict the dataset to ages 25-54\n",
    "data = data[data['AGE']>=25]\n",
    "data = data[data['AGE']<55]\n",
    "\n",
    "# Check the distribution of age\n",
    "data.AGE.describe()"
   ]
  },
  {
   "cell_type": "markdown",
   "metadata": {},
   "source": [
    "Variable: EMPSTAT (Employment Status)"
   ]
  },
  {
   "cell_type": "code",
   "execution_count": 46,
   "metadata": {},
   "outputs": [
    {
     "data": {
      "text/plain": [
       "Employed                              126355\n",
       "Not In Labor Force, other              18316\n",
       "Not In Labor Force, unable to work      7809\n",
       "Unemployed                              6075\n",
       "Not In Labor Force, retired             1777\n",
       "Armed Forces                            1088\n",
       "Name: EMPSTAT2, dtype: int64"
      ]
     },
     "execution_count": 46,
     "metadata": {},
     "output_type": "execute_result"
    }
   ],
   "source": [
    "# Create a new variable EMPSTAT2\n",
    "data['EMPSTAT2'] = data['EMPSTAT']\n",
    "\n",
    "# At this point in our analysis, we want to look at the lables for each employment status code.\n",
    "\n",
    "# Recode 10 (employed at work) and 12 (has job, not at work last week) as Employed\n",
    "data.loc[data.EMPSTAT == 10,'EMPSTAT2'] = 'Employed'\n",
    "data.loc[data.EMPSTAT == 12,'EMPSTAT2'] = 'Employed'\n",
    "\n",
    "# Recode cateogries 20 (Unemployed), 21 (Unemployed, experienced worker), and 22 (Unemployed, new worker) as Unemployed\n",
    "data.loc[data.EMPSTAT == 20,'EMPSTAT2'] = 'Unemployed'\n",
    "data.loc[data.EMPSTAT == 21,'EMPSTAT2'] = 'Unemployed'\n",
    "data.loc[data.EMPSTAT == 22,'EMPSTAT2'] = 'Unemployed'\n",
    "\n",
    "# Recode the remaining codes in EMPSTAT2 with respective labels\n",
    "data.loc[data.EMPSTAT == 1,'EMPSTAT2'] = 'Armed Forces'\n",
    "data.loc[data.EMPSTAT == 31,'EMPSTAT2'] = 'Not In Labor Force, housework'\n",
    "data.loc[data.EMPSTAT == 32,'EMPSTAT2'] = 'Not In Labor Force, unable to work'\n",
    "data.loc[data.EMPSTAT == 33,'EMPSTAT2'] = 'Not In Labor Force, school'\n",
    "data.loc[data.EMPSTAT == 34,'EMPSTAT2'] = 'Not In Labor Force, other'\n",
    "data.loc[data.EMPSTAT == 35,'EMPSTAT2'] = 'Not In Labor Force, unpaid, less than 15 hours'\n",
    "data.loc[data.EMPSTAT == 36,'EMPSTAT2'] = 'Not In Labor Force, retired'\n",
    "\n",
    "# Verify EMPSTAT values\n",
    "data.EMPSTAT2.value_counts()"
   ]
  },
  {
   "cell_type": "markdown",
   "metadata": {},
   "source": [
    "Variable: DURUNEMP (Continuous week employed)"
   ]
  },
  {
   "cell_type": "code",
   "execution_count": 47,
   "metadata": {},
   "outputs": [
    {
     "data": {
      "text/plain": [
       "count    6075.000000\n",
       "mean       28.944691\n",
       "std        33.965344\n",
       "min         0.000000\n",
       "25%         4.000000\n",
       "50%        13.000000\n",
       "75%        43.000000\n",
       "max       119.000000\n",
       "Name: DURUNEMP2, dtype: float64"
      ]
     },
     "execution_count": 47,
     "metadata": {},
     "output_type": "execute_result"
    }
   ],
   "source": [
    "# Create a new variable DURUNEMP2 \n",
    "data['DURUNEMP2'] = data['DURUNEMP']\n",
    "\n",
    "# Recode 999 (missing) as NaN\n",
    "data.loc[data['DURUNEMP2']== 999,'DURUNEMP2']=np.nan\n",
    "\n",
    "# Check the distribution of DURUNEMP2\n",
    "data.DURUNEMP2.describe()"
   ]
  },
  {
   "cell_type": "markdown",
   "metadata": {},
   "source": [
    "Variable: CLASSWKR (Class of Worker)"
   ]
  },
  {
   "cell_type": "code",
   "execution_count": 48,
   "metadata": {
    "scrolled": false
   },
   "outputs": [
    {
     "data": {
      "text/plain": [
       "Employed         120849\n",
       "NIU               27223\n",
       "Self-Employed     13348\n",
       "Name: CLASSWKR2, dtype: int64"
      ]
     },
     "execution_count": 48,
     "metadata": {},
     "output_type": "execute_result"
    }
   ],
   "source": [
    "# Create a new variable CLASSWKR2 \n",
    "data['CLASSWKR2'] = data['CLASSWKR']\n",
    "\n",
    "# Recode 0 (NIU) as NIU\n",
    "data.loc[data.CLASSWKR == 0,'CLASSWKR2'] = 'NIU'\n",
    "\n",
    "# Recode 13 (Self-Employed, non incorporated) and 14 (Self-Employed, incorporated) as (Self-Employed)\n",
    "data.loc[data.CLASSWKR == 13,'CLASSWKR2'] = 'Self-Employed'\n",
    "data.loc[data.CLASSWKR == 14,'CLASSWKR2'] = 'Self-Employed'\n",
    "\n",
    "# Recode 21-29 as 20 (Works for wages or salary)\n",
    "data.loc[data.CLASSWKR == 21,'CLASSWKR2'] = 'Employed'\n",
    "data.loc[data.CLASSWKR == 22,'CLASSWKR2'] = 'Employed'\n",
    "data.loc[data.CLASSWKR == 23,'CLASSWKR2'] = 'Employed'\n",
    "data.loc[data.CLASSWKR == 24,'CLASSWKR2'] = 'Employed'\n",
    "data.loc[data.CLASSWKR == 25,'CLASSWKR2'] = 'Employed'\n",
    "data.loc[data.CLASSWKR == 26,'CLASSWKR2'] = 'Employed'\n",
    "data.loc[data.CLASSWKR == 27,'CLASSWKR2'] = 'Employed'\n",
    "data.loc[data.CLASSWKR == 28,'CLASSWKR2'] = 'Employed'\n",
    "data.loc[data.CLASSWKR == 29,'CLASSWKR2'] = 'Employed'\n",
    "\n",
    "# Recode 99 (Missing/Unknown) as missing\n",
    "data.loc[data['CLASSWKR2']== 99,'CLASSWKR2']=np.nan\n",
    "\n",
    "# Verify CLASSWKR2 values\n",
    "data.CLASSWKR2.value_counts()"
   ]
  },
  {
   "cell_type": "markdown",
   "metadata": {},
   "source": [
    "Variable: REGION"
   ]
  },
  {
   "cell_type": "code",
   "execution_count": 49,
   "metadata": {},
   "outputs": [
    {
     "data": {
      "text/plain": [
       "South Atlantic Division        29733\n",
       "Pacific Division               24093\n",
       "East North Central Division    18139\n",
       "Mountain Division              18117\n",
       "West North Central Division    17360\n",
       "New England Division           15866\n",
       "West South Central Division    14831\n",
       "Middle Atlantic Division       14617\n",
       "East South Central Division     8664\n",
       "Name: REGION2, dtype: int64"
      ]
     },
     "execution_count": 49,
     "metadata": {},
     "output_type": "execute_result"
    }
   ],
   "source": [
    "# Recode REGION with region labels\n",
    "data.loc[data.REGION == 11, 'REGION2'] = \"New England Division\"\n",
    "data.loc[data.REGION == 12, 'REGION2'] = \"Middle Atlantic Division\"\n",
    "data.loc[data.REGION == 21, 'REGION2'] = \"East North Central Division\"\n",
    "data.loc[data.REGION == 22, 'REGION2'] = \"West North Central Division\"\n",
    "data.loc[data.REGION == 31, 'REGION2'] = \"South Atlantic Division\"\n",
    "data.loc[data.REGION == 32, 'REGION2'] = \"East South Central Division\"\n",
    "data.loc[data.REGION == 33, 'REGION2'] = \"West South Central Division\"\n",
    "data.loc[data.REGION == 41, 'REGION2'] = \"Mountain Division\"\n",
    "data.loc[data.REGION == 42, 'REGION2'] = \"Pacific Division\"\n",
    "data.loc[data.REGION == 97, 'REGION2'] = \"State not identified\"\n",
    "\n",
    "# Verify REGION values\n",
    "data['REGION2'].value_counts()"
   ]
  },
  {
   "cell_type": "markdown",
   "metadata": {},
   "source": [
    "Variable: RACE"
   ]
  },
  {
   "cell_type": "code",
   "execution_count": 50,
   "metadata": {},
   "outputs": [
    {
     "data": {
      "text/plain": [
       "White              130646\n",
       "Black               16597\n",
       "Asian                8717\n",
       "Multirace            2746\n",
       "Indian American      1970\n",
       "Hawaiian              744\n",
       "Name: RACE2, dtype: int64"
      ]
     },
     "execution_count": 50,
     "metadata": {},
     "output_type": "execute_result"
    }
   ],
   "source": [
    "# Recode RACE with race labels\n",
    "data.loc[data.RACE == 100, 'RACE2'] = \"White\"\n",
    "data.loc[data.RACE == 200, 'RACE2'] = \"Black\"\n",
    "data.loc[data.RACE == 300, 'RACE2'] = \"Indian American\"\n",
    "data.loc[data.RACE == 651, 'RACE2'] = \"Asian\"\n",
    "data.loc[data.RACE == 652, 'RACE2'] = \"Hawaiian\"\n",
    "\n",
    "data.loc[data.RACE == 801, 'RACE2'] = \"Multirace\"\n",
    "data.loc[data.RACE == 802, 'RACE2'] = \"Multirace\"\n",
    "data.loc[data.RACE == 803, 'RACE2'] = \"Multirace\"\n",
    "data.loc[data.RACE == 804, 'RACE2'] = \"Multirace\"\n",
    "data.loc[data.RACE == 805, 'RACE2'] = \"Multirace\"\n",
    "data.loc[data.RACE == 806, 'RACE2'] = \"Multirace\"\n",
    "data.loc[data.RACE == 807, 'RACE2'] = \"Multirace\"\n",
    "data.loc[data.RACE == 808, 'RACE2'] = \"Multirace\"\n",
    "data.loc[data.RACE == 809, 'RACE2'] = \"Multirace\"\n",
    "data.loc[data.RACE == 810, 'RACE2'] = \"Multirace\"\n",
    "data.loc[data.RACE == 811, 'RACE2'] = \"Multirace\"\n",
    "data.loc[data.RACE == 812, 'RACE2'] = \"Multirace\"\n",
    "data.loc[data.RACE == 813, 'RACE2'] = \"Multirace\"\n",
    "data.loc[data.RACE == 814, 'RACE2'] = \"Multirace\"\n",
    "data.loc[data.RACE == 815, 'RACE2'] = \"Multirace\"\n",
    "data.loc[data.RACE == 816, 'RACE2'] = \"Multirace\"\n",
    "data.loc[data.RACE == 817, 'RACE2'] = \"Multirace\"\n",
    "data.loc[data.RACE == 818, 'RACE2'] = \"Multirace\"\n",
    "data.loc[data.RACE == 819, 'RACE2'] = \"Multirace\"\n",
    "data.loc[data.RACE == 820, 'RACE2'] = \"Multirace\"\n",
    "data.loc[data.RACE == 830, 'RACE2'] = \"Multirace\"\n",
    "\n",
    "# Verify MARST2 values\n",
    "data['RACE2'].value_counts()"
   ]
  },
  {
   "cell_type": "markdown",
   "metadata": {},
   "source": [
    "Variable: Sex"
   ]
  },
  {
   "cell_type": "code",
   "execution_count": 51,
   "metadata": {},
   "outputs": [
    {
     "data": {
      "text/plain": [
       "Female    83052\n",
       "Male      78368\n",
       "Name: SEX2, dtype: int64"
      ]
     },
     "execution_count": 51,
     "metadata": {},
     "output_type": "execute_result"
    }
   ],
   "source": [
    "# Recode SEX with labels\n",
    "data.loc[data.SEX == 1, 'SEX2'] = \"Male\"\n",
    "data.loc[data.SEX == 2, 'SEX2'] = \"Female\"\n",
    "data.loc[data.SEX == 9, 'SEX2'] = \"NIU\"\n",
    "\n",
    "# Verify SEX2 values\n",
    "data['SEX2'].value_counts()"
   ]
  },
  {
   "cell_type": "markdown",
   "metadata": {},
   "source": [
    "Variable: MARST (Marital Status)"
   ]
  },
  {
   "cell_type": "code",
   "execution_count": 52,
   "metadata": {},
   "outputs": [
    {
     "data": {
      "text/plain": [
       "Married                           98866\n",
       "Single                            38439\n",
       "Seprated, divorced, or widowed    24115\n",
       "Name: MARST2, dtype: int64"
      ]
     },
     "execution_count": 52,
     "metadata": {},
     "output_type": "execute_result"
    }
   ],
   "source": [
    "# Recode MARST with labels\n",
    "data.loc[data.MARST == 1, 'MARST2'] = \"Married\"\n",
    "data.loc[data.MARST == 2, 'MARST2'] = \"Married\"\n",
    "data.loc[data.MARST == 3, 'MARST2'] = \"Seprated, divorced, or widowed\"\n",
    "data.loc[data.MARST == 4, 'MARST2'] = \"Seprated, divorced, or widowed\"\n",
    "data.loc[data.MARST == 5, 'MARST2'] = \"Seprated, divorced, or widowed\"\n",
    "data.loc[data.MARST == 6, 'MARST2'] = \"Single\"\n",
    "data.loc[data.MARST == 9, 'MARST2'] = \"NIU\"\n",
    "\n",
    "# Verify MARST2 values\n",
    "data['MARST2'].value_counts()"
   ]
  },
  {
   "cell_type": "markdown",
   "metadata": {},
   "source": [
    "Variable: YRIMMIG (Year of Immigration)"
   ]
  },
  {
   "cell_type": "code",
   "execution_count": 53,
   "metadata": {},
   "outputs": [
    {
     "data": {
      "text/plain": [
       "NIU       132886\n",
       "2001.0      2603\n",
       "1999.0      2116\n",
       "1991.0      1786\n",
       "1997.0      1717\n",
       "1995.0      1692\n",
       "2003.0      1691\n",
       "1979.0      1520\n",
       "1989.0      1477\n",
       "1993.0      1261\n",
       "2005.0      1234\n",
       "1981.0      1218\n",
       "1985.0      1161\n",
       "1987.0      1136\n",
       "1974.0      1065\n",
       "2008.0      1009\n",
       "1983.0       884\n",
       "2010.0       820\n",
       "2016.0       792\n",
       "2006.0       749\n",
       "1969.0       610\n",
       "2013.0       492\n",
       "2009.0       476\n",
       "2011.0       460\n",
       "1964.0       376\n",
       "1959.0       188\n",
       "1949.0         1\n",
       "Name: YRIMMIG2, dtype: int64"
      ]
     },
     "execution_count": 53,
     "metadata": {},
     "output_type": "execute_result"
    }
   ],
   "source": [
    "# Recode YRIMMIG with label\n",
    "data.loc[data.YRIMMIG > 0, 'YRIMMIG2'] = data.YRIMMIG\n",
    "\n",
    "# Recode missing data\n",
    "data.loc[data.YRIMMIG == 0, 'YRIMMIG2'] = 'NIU'\n",
    "\n",
    "# Verify YRIMMIG2 values\n",
    "data['YRIMMIG2'].value_counts()"
   ]
  },
  {
   "cell_type": "markdown",
   "metadata": {},
   "source": [
    "Variable: CITIZEN"
   ]
  },
  {
   "cell_type": "code",
   "execution_count": 54,
   "metadata": {},
   "outputs": [
    {
     "data": {
      "text/plain": [
       "Born in US                         132886\n",
       "Not a citizen                       15619\n",
       "Naturalized citizen                 10285\n",
       "Born acroad of American parents      1681\n",
       "Born in US outlying                   949\n",
       "Name: CITIZEN2, dtype: int64"
      ]
     },
     "execution_count": 54,
     "metadata": {},
     "output_type": "execute_result"
    }
   ],
   "source": [
    "# Recode CITIZEN with label\n",
    "data.loc[data.CITIZEN == 1, 'CITIZEN2'] = \"Born in US\"\n",
    "data.loc[data.CITIZEN == 2, 'CITIZEN2'] = \"Born in US outlying\"\n",
    "data.loc[data.CITIZEN == 3, 'CITIZEN2'] = \"Born acroad of American parents\"\n",
    "data.loc[data.CITIZEN == 4, 'CITIZEN2'] = \"Naturalized citizen\"\n",
    "data.loc[data.CITIZEN == 5, 'CITIZEN2'] = \"Not a citizen\"\n",
    "data.loc[data.CITIZEN == 9, 'CITIZEN2'] = \"NIU\"\n",
    "\n",
    "# Verify CITIZEN2 values\n",
    "data['CITIZEN2'].value_counts()"
   ]
  },
  {
   "cell_type": "markdown",
   "metadata": {},
   "source": [
    "Variable: LABFORCE (Labor Force Status)"
   ]
  },
  {
   "cell_type": "code",
   "execution_count": 55,
   "metadata": {},
   "outputs": [
    {
     "data": {
      "text/plain": [
       "Yes, in the labor force       132430\n",
       "No, not in the labor force     27902\n",
       "NIU                             1088\n",
       "Name: LABFORCE2, dtype: int64"
      ]
     },
     "execution_count": 55,
     "metadata": {},
     "output_type": "execute_result"
    }
   ],
   "source": [
    "# Recode LABFORCE with label\n",
    "data.loc[data.LABFORCE == 1, 'LABFORCE2'] = \"No, not in the labor force\"\n",
    "data.loc[data.LABFORCE == 2, 'LABFORCE2'] = \"Yes, in the labor force\"\n",
    "data.loc[data.LABFORCE == 0, 'LABFORCE2'] = \"NIU\"\n",
    "\n",
    "# Verify LABFORCE2 values\n",
    "data['LABFORCE2'].value_counts()"
   ]
  },
  {
   "cell_type": "markdown",
   "metadata": {},
   "source": [
    "Variable: WKSTAT (Full or Part Time Status)"
   ]
  },
  {
   "cell_type": "code",
   "execution_count": 56,
   "metadata": {},
   "outputs": [
    {
     "data": {
      "text/plain": [
       "Full-time hours (35+), usually full-time                       95572\n",
       "Part-time for non-economic reasons, usually full-time          11445\n",
       "Part-time hours, usually part-time for non-economic reasons    11258\n",
       "Unemployed, seeking full-time work                              5555\n",
       "Part-time hours, usually part-time for economic reasons         3205\n",
       "Not at work, usually full-time                                  2351\n",
       "Part-time for economic reasons, usually full-time               1210\n",
       "Not at work, usually part-time                                   696\n",
       "Unemployed, seeking part-time work                               520\n",
       "Full-time hours, usually part-time for non-economic reasons      449\n",
       "Full-time hours, usually part-time for economic reasons          169\n",
       "Name: WKSTAT2, dtype: int64"
      ]
     },
     "execution_count": 56,
     "metadata": {},
     "output_type": "execute_result"
    }
   ],
   "source": [
    "# Create a new variable WKSTAT2 \n",
    "data['WKSTAT2'] = data['WKSTAT']\n",
    "\n",
    "# Recode data codes with labels\n",
    "data.loc[data.WKSTAT == 11,'WKSTAT2'] = 'Full-time hours (35+), usually full-time'\n",
    "data.loc[data.WKSTAT == 12,'WKSTAT2'] = 'Part-time for non-economic reasons, usually full-time'\n",
    "data.loc[data.WKSTAT == 13,'WKSTAT2'] = 'Not at work, usually full-time'\n",
    "data.loc[data.WKSTAT == 14,'WKSTAT2'] = 'Full-time hours, usually part-time for economic reasons'\n",
    "data.loc[data.WKSTAT == 15,'WKSTAT2'] = 'Full-time hours, usually part-time for non-economic reasons'\n",
    "data.loc[data.WKSTAT == 21,'WKSTAT2'] = 'Part-time for economic reasons, usually full-time'\n",
    "data.loc[data.WKSTAT == 22,'WKSTAT2'] = 'Part-time hours, usually part-time for economic reasons'\n",
    "data.loc[data.WKSTAT == 41,'WKSTAT2'] = 'Part-time hours, usually part-time for non-economic reasons'\n",
    "data.loc[data.WKSTAT == 42,'WKSTAT2'] = 'Not at work, usually part-time'\n",
    "data.loc[data.WKSTAT == 50,'WKSTAT2'] = 'Unemployed, seeking full-time work'\n",
    "data.loc[data.WKSTAT == 60,'WKSTAT2'] = 'Unemployed, seeking part-time work'\n",
    "\n",
    "# Set value = 99 as NaN\n",
    "data.loc[data['WKSTAT']== 99,'WKSTAT2']=np.nan\n",
    "\n",
    "# Verify WHYUNEMP2 Values\n",
    "data['WKSTAT2'].value_counts()"
   ]
  },
  {
   "cell_type": "markdown",
   "metadata": {},
   "source": [
    "Variable: WHYUNEMP (Reason for Unemployment)"
   ]
  },
  {
   "cell_type": "code",
   "execution_count": 57,
   "metadata": {},
   "outputs": [
    {
     "data": {
      "text/plain": [
       "NIU                      155345\n",
       "Other job loser            2257\n",
       "Re-entrant                 1581\n",
       "Temporary job ended         713\n",
       "Job loser / on layoff       703\n",
       "Job leaver                  676\n",
       "New-entrant                 145\n",
       "Name: WHYUNEMP2, dtype: int64"
      ]
     },
     "execution_count": 57,
     "metadata": {},
     "output_type": "execute_result"
    }
   ],
   "source": [
    "# Recode data codes with labels\n",
    "data.loc[data.WHYUNEMP == 0,'WHYUNEMP2'] = 'NIU'\n",
    "data.loc[data.WHYUNEMP == 1,'WHYUNEMP2'] = 'Job loser / on layoff'\n",
    "data.loc[data.WHYUNEMP == 2,'WHYUNEMP2'] = 'Other job loser'\n",
    "data.loc[data.WHYUNEMP == 3,'WHYUNEMP2'] = 'Temporary job ended'\n",
    "data.loc[data.WHYUNEMP == 4,'WHYUNEMP2'] = 'Job leaver'\n",
    "data.loc[data.WHYUNEMP == 5,'WHYUNEMP2'] = 'Re-entrant'\n",
    "data.loc[data.WHYUNEMP == 6,'WHYUNEMP2'] = 'New-entrant'\n",
    "\n",
    "# Verify WHYUNEMP2 Values\n",
    "data['WHYUNEMP2'].value_counts()"
   ]
  },
  {
   "cell_type": "markdown",
   "metadata": {},
   "source": [
    "Variable: EDUC (Educational Attainment)"
   ]
  },
  {
   "cell_type": "code",
   "execution_count": 58,
   "metadata": {
    "scrolled": true
   },
   "outputs": [
    {
     "data": {
      "text/plain": [
       "High School Diploma or Equivalent    46189\n",
       "Bachelors Degree                     36033\n",
       "Some College but No Degree           27800\n",
       "Graduate Degree                      18289\n",
       "Associates Degree                    17345\n",
       "Less than High School                15764\n",
       "Name: EDUC2, dtype: int64"
      ]
     },
     "execution_count": 58,
     "metadata": {},
     "output_type": "execute_result"
    }
   ],
   "source": [
    "# Create a new variable EDUC2 \n",
    "data['EDUC2'] = data['EDUC']\n",
    "\n",
    "# Recode everything less than 72 as 1, signifying less than a high school diploma\n",
    "data.loc[data.EDUC <72,'EDUC2'] = 'Less than High School'\n",
    "\n",
    "# Recode 72 and 73 as 2, signifying a high school diploma or equivalent\n",
    "data.loc[data.EDUC== 72,'EDUC2'] = 'High School Diploma or Equivalent'\n",
    "data.loc[data.EDUC== 73,'EDUC2'] = 'High School Diploma or Equivalent'\n",
    "\n",
    "# Recode 80 and 81 as 3, signifying some college but no degree\n",
    "data.loc[data.EDUC== 80,'EDUC2'] = 'Some College but No Degree'\n",
    "data.loc[data.EDUC== 81,'EDUC2'] = 'Some College but No Degree'\n",
    "\n",
    "# Recode 90, 91, and 92 as 4, signifying completing an Associate's degree\n",
    "data.loc[data.EDUC== 90,'EDUC2'] = 'Associates Degree'\n",
    "data.loc[data.EDUC== 91,'EDUC2'] = 'Associates Degree'\n",
    "data.loc[data.EDUC== 92,'EDUC2'] = 'Associates Degree'\n",
    "\n",
    "# Recode 110 and 111 as 5, signifying completing a Bachelor's degree\n",
    "data.loc[data.EDUC== 110,'EDUC2'] = 'Bachelors Degree'\n",
    "data.loc[data.EDUC== 111,'EDUC2'] = 'Bachelors Degree'\n",
    "\n",
    "# Recode > 111 as 6, signifying completing a Graduate Program\n",
    "data.loc[data.EDUC > 111,'EDUC2'] = 'Graduate Degree'\n",
    "\n",
    "# Set value = 999 as NaN\n",
    "data.loc[data['EDUC2']== 999,'EDUC2']=np.nan\n",
    "\n",
    "# Verify EDUC2 Values\n",
    "data['EDUC2'].value_counts()"
   ]
  },
  {
   "cell_type": "markdown",
   "metadata": {},
   "source": [
    "Variable: STATEFIPS (State FIPS Code)"
   ]
  },
  {
   "cell_type": "code",
   "execution_count": 59,
   "metadata": {
    "scrolled": true
   },
   "outputs": [
    {
     "data": {
      "text/plain": [
       "California              14217\n",
       "Texas                    8711\n",
       "New York                 6700\n",
       "Florida                  6627\n",
       "Illinois                 4960\n",
       "Pennsylvania             4516\n",
       "Ohio                     4238\n",
       "Michigan                 3723\n",
       "Goergia                  3648\n",
       "Virginia                 3447\n",
       "New Jersey               3401\n",
       "Minnesota                3354\n",
       "Maryland                 3349\n",
       "North Carolina           3303\n",
       "Colorado                 3224\n",
       "New Hampshire            3059\n",
       "Connecticut              3055\n",
       "Washington               2891\n",
       "Massachusetts            2776\n",
       "Wisconsin                2692\n",
       "District of Columbia     2663\n",
       "Iowa                     2616\n",
       "Missouri                 2596\n",
       "Indiana                  2526\n",
       "Nevada                   2498\n",
       "Hawaii                   2426\n",
       "Tennessee                2399\n",
       "Rhode Island             2385\n",
       "Maine                    2368\n",
       "Oregon                   2357\n",
       "West Virginia            2296\n",
       "Nebraska                 2294\n",
       "Delaware                 2266\n",
       "Arizona                  2261\n",
       "Kentucky                 2256\n",
       "Vermont                  2223\n",
       "North Dakota             2206\n",
       "Utah                     2206\n",
       "Alaska                   2202\n",
       "Alabama                  2193\n",
       "Kansas                   2158\n",
       "Louisiana                2143\n",
       "South Dakota             2136\n",
       "South Carolina           2134\n",
       "Idaho                    2117\n",
       "Wyoming                  2102\n",
       "Arkansas                 2007\n",
       "Oklahoma                 1970\n",
       "Montana                  1861\n",
       "New Mexico               1848\n",
       "Mississippi              1816\n",
       "Name: STATEFIP2, dtype: int64"
      ]
     },
     "execution_count": 59,
     "metadata": {},
     "output_type": "execute_result"
    }
   ],
   "source": [
    "# Create a new variable SCHLCOLL2 \n",
    "data['STATEFIP2'] = data['STATEFIP']\n",
    "\n",
    "#Recode data codes with labels\n",
    "data.loc[data.STATEFIP == 1,'STATEFIP2'] = 'Alabama'\n",
    "data.loc[data.STATEFIP == 2,'STATEFIP2'] = 'Alaska'\n",
    "data.loc[data.STATEFIP == 4,'STATEFIP2'] = 'Arizona'\n",
    "data.loc[data.STATEFIP == 5,'STATEFIP2'] = 'Arkansas'\n",
    "data.loc[data.STATEFIP == 6,'STATEFIP2'] = 'California'\n",
    "data.loc[data.STATEFIP == 8,'STATEFIP2'] = 'Colorado'\n",
    "data.loc[data.STATEFIP == 9,'STATEFIP2'] = 'Connecticut'\n",
    "\n",
    "data.loc[data.STATEFIP == 10,'STATEFIP2'] = 'Delaware'\n",
    "data.loc[data.STATEFIP == 11,'STATEFIP2'] = 'District of Columbia'\n",
    "data.loc[data.STATEFIP == 12,'STATEFIP2'] = 'Florida'\n",
    "data.loc[data.STATEFIP == 13,'STATEFIP2'] = 'Goergia'\n",
    "data.loc[data.STATEFIP == 15,'STATEFIP2'] = 'Hawaii'\n",
    "data.loc[data.STATEFIP == 16,'STATEFIP2'] = 'Idaho'\n",
    "data.loc[data.STATEFIP == 17,'STATEFIP2'] = 'Illinois'\n",
    "data.loc[data.STATEFIP == 18,'STATEFIP2'] = 'Indiana'\n",
    "data.loc[data.STATEFIP == 19,'STATEFIP2'] = 'Iowa'\n",
    "\n",
    "data.loc[data.STATEFIP == 20,'STATEFIP2'] = 'Kansas'\n",
    "data.loc[data.STATEFIP == 21,'STATEFIP2'] = 'Kentucky'\n",
    "data.loc[data.STATEFIP == 22,'STATEFIP2'] = 'Louisiana'\n",
    "data.loc[data.STATEFIP == 23,'STATEFIP2'] = 'Maine'\n",
    "data.loc[data.STATEFIP == 24,'STATEFIP2'] = 'Maryland'\n",
    "data.loc[data.STATEFIP == 25,'STATEFIP2'] = 'Massachusetts'\n",
    "data.loc[data.STATEFIP == 26,'STATEFIP2'] = 'Michigan'\n",
    "data.loc[data.STATEFIP == 27,'STATEFIP2'] = 'Minnesota'\n",
    "data.loc[data.STATEFIP == 28,'STATEFIP2'] = 'Mississippi'\n",
    "data.loc[data.STATEFIP == 29,'STATEFIP2'] = 'Missouri'\n",
    "\n",
    "data.loc[data.STATEFIP == 30,'STATEFIP2'] = 'Montana'\n",
    "data.loc[data.STATEFIP == 31,'STATEFIP2'] = 'Nebraska'\n",
    "data.loc[data.STATEFIP == 32,'STATEFIP2'] = 'Nevada'\n",
    "data.loc[data.STATEFIP == 33,'STATEFIP2'] = 'New Hampshire'\n",
    "data.loc[data.STATEFIP == 34,'STATEFIP2'] = 'New Jersey'\n",
    "data.loc[data.STATEFIP == 35,'STATEFIP2'] = 'New Mexico'\n",
    "data.loc[data.STATEFIP == 36,'STATEFIP2'] = 'New York'\n",
    "data.loc[data.STATEFIP == 37,'STATEFIP2'] = 'North Carolina'\n",
    "data.loc[data.STATEFIP == 38,'STATEFIP2'] = 'North Dakota'\n",
    "data.loc[data.STATEFIP == 39,'STATEFIP2'] = 'Ohio'\n",
    "\n",
    "data.loc[data.STATEFIP == 40,'STATEFIP2'] = 'Oklahoma'\n",
    "data.loc[data.STATEFIP == 41,'STATEFIP2'] = 'Oregon'\n",
    "data.loc[data.STATEFIP == 42,'STATEFIP2'] = 'Pennsylvania'\n",
    "data.loc[data.STATEFIP == 44,'STATEFIP2'] = 'Rhode Island'\n",
    "data.loc[data.STATEFIP == 45,'STATEFIP2'] = 'South Carolina'\n",
    "data.loc[data.STATEFIP == 46,'STATEFIP2'] = 'South Dakota'\n",
    "data.loc[data.STATEFIP == 47,'STATEFIP2'] = 'Tennessee'\n",
    "data.loc[data.STATEFIP == 48,'STATEFIP2'] = 'Texas'\n",
    "data.loc[data.STATEFIP == 49,'STATEFIP2'] = 'Utah'\n",
    "\n",
    "data.loc[data.STATEFIP == 50,'STATEFIP2'] = 'Vermont'\n",
    "data.loc[data.STATEFIP == 51,'STATEFIP2'] = 'Virginia'\n",
    "data.loc[data.STATEFIP == 53,'STATEFIP2'] = 'Washington'\n",
    "data.loc[data.STATEFIP == 54,'STATEFIP2'] = 'West Virginia'\n",
    "data.loc[data.STATEFIP == 55,'STATEFIP2'] = 'Wisconsin'\n",
    "data.loc[data.STATEFIP == 56,'STATEFIP2'] = 'Wyoming'\n",
    "\n",
    "# Verify STATEFIP2 Values\n",
    "data.STATEFIP2.value_counts()"
   ]
  },
  {
   "cell_type": "markdown",
   "metadata": {},
   "source": [
    "Variable: NUMJOB (How many jobs had in past week)"
   ]
  },
  {
   "cell_type": "code",
   "execution_count": 60,
   "metadata": {},
   "outputs": [
    {
     "data": {
      "text/plain": [
       "NIU               153777\n",
       "3 Jobs              7551\n",
       "4 or more jobs        92\n",
       "Name: NUMJOB2, dtype: int64"
      ]
     },
     "execution_count": 60,
     "metadata": {},
     "output_type": "execute_result"
    }
   ],
   "source": [
    "# Create a new variable WKSTAT2 \n",
    "data['NUMJOB2'] = data['NUMJOB']\n",
    "\n",
    "# Recode data codes with labels\n",
    "data.loc[data.NUMJOB == 0,'NUMJOB2'] = 'NIU'\n",
    "data.loc[data.NUMJOB == 2,'NUMJOB2'] = '3 Jobs'\n",
    "data.loc[data.NUMJOB == 3,'NUMJOB2'] = '3 Jobs'\n",
    "data.loc[data.NUMJOB == 4,'NUMJOB2'] = '4 or more jobs'\n",
    "\n",
    "# Verify NUMJOB2 Values\n",
    "data.NUMJOB2.value_counts()"
   ]
  },
  {
   "cell_type": "markdown",
   "metadata": {},
   "source": [
    "Variable: SCHLCOLL (School or college attendance)"
   ]
  },
  {
   "cell_type": "code",
   "execution_count": 61,
   "metadata": {},
   "outputs": [
    {
     "data": {
      "text/plain": [
       "NIU                                              111090\n",
       "Does not attend school, college or university     47799\n",
       "College or university full time                    1429\n",
       "College or university part time                    1020\n",
       "High school full time                                62\n",
       "High school part time                                20\n",
       "Name: SCHLCOLL2, dtype: int64"
      ]
     },
     "execution_count": 61,
     "metadata": {},
     "output_type": "execute_result"
    }
   ],
   "source": [
    "# Create a new variable SCHLCOLL2 \n",
    "data['SCHLCOLL2'] = data['SCHLCOLL']\n",
    "\n",
    "#Recode data codes with labels\n",
    "data.loc[data.SCHLCOLL == 0,'SCHLCOLL2'] = 'NIU'\n",
    "data.loc[data.SCHLCOLL == 1,'SCHLCOLL2'] = 'High school full time'\n",
    "data.loc[data.SCHLCOLL == 2,'SCHLCOLL2'] = 'High school part time'\n",
    "data.loc[data.SCHLCOLL == 3,'SCHLCOLL2'] = 'College or university full time'\n",
    "data.loc[data.SCHLCOLL == 4,'SCHLCOLL2'] = 'College or university part time'\n",
    "data.loc[data.SCHLCOLL == 5,'SCHLCOLL2'] = 'Does not attend school, college or university'\n",
    "\n",
    "# Verify SCHLCOLL2 Values\n",
    "data.SCHLCOLL2.value_counts()"
   ]
  },
  {
   "cell_type": "markdown",
   "metadata": {},
   "source": [
    "Variable: METRO (Metropolitan central city status)"
   ]
  },
  {
   "cell_type": "code",
   "execution_count": 62,
   "metadata": {},
   "outputs": [
    {
     "data": {
      "text/plain": [
       "Outside central city           62032\n",
       "Central city                   40629\n",
       "Not in metro area              29735\n",
       "Central city status unknown    27671\n",
       "Not identifiable                1353\n",
       "Name: METRO2, dtype: int64"
      ]
     },
     "execution_count": 62,
     "metadata": {},
     "output_type": "execute_result"
    }
   ],
   "source": [
    "# Recode data codes with labels\n",
    "data.loc[data.METRO == 0,'METRO2'] = 'Not identifiable'\n",
    "data.loc[data.METRO == 1,'METRO2'] = 'Not in metro area'\n",
    "data.loc[data.METRO == 2,'METRO2'] = 'Central city'\n",
    "data.loc[data.METRO == 3,'METRO2'] = 'Outside central city'\n",
    "data.loc[data.METRO == 4,'METRO2'] = 'Central city status unknown'\n",
    "\n",
    "# Set value = 999 as NaN\n",
    "data.loc[data['METRO2']== 9,'METRO2']=np.nan\n",
    "\n",
    "# Verify METRO2 Values\n",
    "data.METRO2.value_counts()"
   ]
  },
  {
   "cell_type": "markdown",
   "metadata": {},
   "source": [
    "Variable: VETSTAT (Veteran Status)"
   ]
  },
  {
   "cell_type": "code",
   "execution_count": 63,
   "metadata": {
    "scrolled": true
   },
   "outputs": [
    {
     "data": {
      "text/plain": [
       "No service          151667\n",
       "Yes                   8665\n",
       "Not identifiable      1088\n",
       "Name: VETSTAT2, dtype: int64"
      ]
     },
     "execution_count": 63,
     "metadata": {},
     "output_type": "execute_result"
    }
   ],
   "source": [
    "# Recode data codes with labels\n",
    "data.loc[data.VETSTAT == 0,'VETSTAT2'] = 'Not identifiable'\n",
    "data.loc[data.VETSTAT == 1,'VETSTAT2'] = 'No service'\n",
    "data.loc[data.VETSTAT == 2,'VETSTAT2'] = 'Yes'\n",
    "data.loc[data.VETSTAT == 9,'VETSTAT2'] = 'Outside central cityUnknown/non-WWII'\n",
    "\n",
    "# Verify VETSTAT2 Values\n",
    "data.VETSTAT2.value_counts()"
   ]
  },
  {
   "cell_type": "markdown",
   "metadata": {},
   "source": [
    "Variable: DIFFANY (Any disability)"
   ]
  },
  {
   "cell_type": "code",
   "execution_count": 64,
   "metadata": {},
   "outputs": [
    {
     "data": {
      "text/plain": [
       "No difficulty     96858\n",
       "NIU               57873\n",
       "Has difficulty     6689\n",
       "Name: DIFFANY2, dtype: int64"
      ]
     },
     "execution_count": 64,
     "metadata": {},
     "output_type": "execute_result"
    }
   ],
   "source": [
    "# Recode data codes with labels\n",
    "data.loc[data.DIFFANY == 0,'DIFFANY2'] = 'NIU'\n",
    "data.loc[data.DIFFANY == 1,'DIFFANY2'] = 'No difficulty'\n",
    "data.loc[data.DIFFANY == 2,'DIFFANY2'] = 'Has difficulty'\n",
    "data.DIFFANY2 = data.DIFFANY2.fillna('NIU')\n",
    "\n",
    "# Verify DIFFANY2 Values\n",
    "data.DIFFANY2.value_counts()"
   ]
  },
  {
   "cell_type": "markdown",
   "metadata": {},
   "source": [
    "Variable: IND (Industry)"
   ]
  },
  {
   "cell_type": "code",
   "execution_count": 65,
   "metadata": {},
   "outputs": [
    {
     "data": {
      "text/plain": [
       "SocialServices                30052\n",
       "NIU                           28311\n",
       "Manufacturing                 15500\n",
       "ProfessinalServices           15350\n",
       "RetailTrade                   13211\n",
       "Construction                  10709\n",
       "Entertainment                 10012\n",
       "Finance                        9379\n",
       "PublicAdmin                    6822\n",
       "Other                          6161\n",
       "TransportationWharehousing     5731\n",
       "WholesaleTrade                 3766\n",
       "InformationCommunications      3115\n",
       "Agriculture                    2066\n",
       "Utilities                      1214\n",
       "ArmedForces                      21\n",
       "Name: IND2, dtype: int64"
      ]
     },
     "execution_count": 65,
     "metadata": {},
     "output_type": "execute_result"
    }
   ],
   "source": [
    "# Create a new variable IND2 \n",
    "data['IND2'] = data['IND']\n",
    "\n",
    "# Recode 0 (N/A) and 9920 (Unemployed, last worked 5 years ago) as NIU\n",
    "data.loc[data.IND == 0,'IND2'] = 'NIU'\n",
    "data.loc[data.IND == 9920,'IND2'] = 'NIU'\n",
    "\n",
    "# Recode Agriculture, Forestry, Fishing, and Hunting\n",
    "agriculture = [170,180,190,270, 280, 290]\n",
    "for x in agriculture:\n",
    "    data.loc[data.IND == x,'IND2'] = 'Agriculture'\n",
    "\n",
    "# Recode Mining, Quarrying, and Oil and Gas Extraction\n",
    "mining = [370, 380, 390, 470,480, 490]\n",
    "for x in mining:\n",
    "    data.loc[data.IND == x,'IND2'] = 'Manufacturing'\n",
    "\n",
    "# Construction\n",
    "data.loc[data.IND == 770,'IND2'] = 'Construction'\n",
    "\n",
    "# Manufacturing\n",
    "manufacturing = [1070, 1080, 1090, 1170, 1180, 1190, 1270, 1280, 1290, 1370, 1390, 1470, 1480, 1490, 1570, 1590, 1670, 1680, 1690, 1770, 1790, 1870, 1880, 1890, 1990, 2070, 2090, 2170, 2180, 2190, 2270, 2280, 2290,2370,2380, 2390, 2470, 2480,2490,2570,2590,2670,2680,2690,2770,2780,2790,2870,2880,2890,2970,2980,2990,3070,3080,3090,3095, 3170,3180,3190,3290,3360,3365,3370,3380,3390,3470,3490,3570,3580,3590,3670,3680,3690,3890,3770,3780,3790,3870,3875,3890,3895,3960,3970,3980,3990]\n",
    "for x in manufacturing:\n",
    "    data.loc[data.IND == x,'IND2'] = 'Manufacturing'\n",
    "\n",
    "# Wholesale Trade\n",
    "wholesale = [4070,4080,4090,4170,4180,4190,4195,4260,4265,4270,4280,4290,4370,4380,4390,4470,4480,4490,4560,4570,4580,4585,4590]\n",
    "for x in wholesale:\n",
    "    data.loc[data.IND == x,'IND2'] = 'WholesaleTrade'\n",
    "    \n",
    "# Retail Trade\n",
    "retail = [4670,4680,4690,4770,4780,4790,4795,4870,4880,4890,4970,4980,4990,5070,5080,5090,5170,5180,5190,5270,5275,5280,5290,5295,5370,5380,5390,5470,5480,5490,5570,5580,5590,5591,5592,5670,5680,5690,5790]\n",
    "for x in retail:\n",
    "    data.loc[data.IND == x,'IND2'] = 'RetailTrade'\n",
    "    \n",
    "# Transportation and Warehousing\n",
    "trans = [6070,6080,6090,6170,6180,6190,6270,6280,6290,6370,6380,6390]\n",
    "for x in trans:\n",
    "    data.loc[data.IND == x,'IND2'] = 'TransportationWharehousing'\n",
    "    \n",
    "# Utilities\n",
    "utilities = [570,580,590,670,680,690]\n",
    "for x in utilities:\n",
    "    data.loc[data.IND == x,'IND2'] = 'Utilities'\n",
    "    \n",
    "# Information and Communications\n",
    "info = [6470,6480,6490,6570,6590,6670,6672,6675,6870,6680,6690,6692,6695,6770,6780]\n",
    "for x in info:\n",
    "    data.loc[data.IND == x,'IND2'] = 'InformationCommunications'\n",
    "\n",
    "# Finance, Insurance, Real Estate, and Rental and Leasing\n",
    "finance = [6870,6880,6890,6970,6990,7070,7080,7170,7180,7190]\n",
    "for x in finance:\n",
    "    data.loc[data.IND == x,'IND2'] = 'Finance'\n",
    "    \n",
    "# Professional, Scientific, Management, Administrative, and Waste Management Services\n",
    "professional = [7270,7280,7290,7370,7380,7390,7460,7470,7480,7490,7570,7580,7590,7670,7680,7690,7770,7780,7790]\n",
    "for x in professional:\n",
    "    data.loc[data.IND == x,'IND2'] = 'ProfessinalServices'\n",
    "    \n",
    "# Educational, Health and Social Services\n",
    "social = [7860,7870,7880,7890,7970,7980,7990,8070,8080,8090,8170,8180,8190,8270,8290,8370,8380,8390,8470]\n",
    "for x in social:\n",
    "    data.loc[data.IND == x,'IND2'] = 'SocialServices'\n",
    "    \n",
    "# Entertainment\n",
    "entertainment = [8560,8570,8580,8590,8660,8670,8680,8690]\n",
    "for x in entertainment:\n",
    "    data.loc[data.IND == x,'IND2'] = 'Entertainment'\n",
    "    \n",
    "# Other Services\n",
    "other = [8770,8780,8790,8870,8880,8890,8970,8980,8990,9070,9080,9090,9160,9170,9180,9190,9290]\n",
    "for x in other:\n",
    "    data.loc[data.IND == x,'IND2'] = 'Other'\n",
    "    \n",
    "# Public Administration\n",
    "admin = [9370,9380,9390,9390,9470,9480,9490,9570,9590]\n",
    "for x in admin:\n",
    "    data.loc[data.IND == x,'IND2'] = 'PublicAdmin'\n",
    "    \n",
    "# Armed Force\n",
    "army = [9670,9680,9690,9770,9780,9790,9870,9890]\n",
    "for x in army:\n",
    "    data.loc[data.IND == x,'IND2'] = 'ArmedForces'\n",
    "\n",
    "# Verify IND2 Values\n",
    "data.IND2.value_counts()"
   ]
  },
  {
   "cell_type": "markdown",
   "metadata": {},
   "source": [
    "Variable: OCC (Occupation)"
   ]
  },
  {
   "cell_type": "code",
   "execution_count": 66,
   "metadata": {},
   "outputs": [
    {
     "data": {
      "text/plain": [
       "Management, Business, Science, and Arts Occupations           43872\n",
       "Office and Administrative Support Occupations                 16140\n",
       "Sales and Related Occupations                                 12927\n",
       "Education, Training, and Library Occupations                   8603\n",
       "Transportation and Material Moving Occupations                 8509\n",
       "Construction and Extraction Occupations                        8358\n",
       "Healthcare Practitioners and Technical Occupations             7749\n",
       "Production Occupations                                         7564\n",
       "Food Preparation and Serving Occupations                       5661\n",
       "Building and Grounds Cleaning and Maintenance Occupations      4830\n",
       "Installation, Maintenance, and Repair Workers                  4680\n",
       "Personal Care and Service Occupations                          4490\n",
       "Computer and Mathematical Occupations                          3954\n",
       "Business Operations Specialists                                3316\n",
       "Financial Specialists                                          3051\n",
       "Healthcare Support Occupations                                 3015\n",
       "Protective Service Occupations                                 2867\n",
       "Architecture and Engineering Occupations                       2760\n",
       "Arts, Design, Entertainment, Sports, and Media Occupations     2646\n",
       "Community and Social Services Occupations                      2185\n",
       "Legal Occupations                                              1528\n",
       "Life, Physical, and Social Science Occupations                 1416\n",
       "Farming, Fishing, and Forestry Occupations                      958\n",
       "Extraction Workers                                              320\n",
       "Military Specific Occupations                                    21\n",
       "Name: OCC2, dtype: int64"
      ]
     },
     "execution_count": 66,
     "metadata": {},
     "output_type": "execute_result"
    }
   ],
   "source": [
    "# Recode data codes with labels\n",
    "data.loc[data.OCC <= 420,'OCC2'] = 'Management, Business, Science, and Arts Occupations'\n",
    "data.loc[(data.OCC <= 740) & (data.OCC > 420),'OCC2'] = 'Business Operations Specialists'\n",
    "data.loc[(data.OCC <= 950) & (data.OCC > 740),'OCC2'] = 'Financial Specialists'\n",
    "data.loc[(data.OCC <= 1240) & (data.OCC > 950),'OCC2'] = 'Computer and Mathematical Occupations'\n",
    "data.loc[(data.OCC <= 1560) & (data.OCC > 1240),'OCC2'] = 'Architecture and Engineering Occupations'\n",
    "data.loc[(data.OCC <= 1965) & (data.OCC > 1560),'OCC2'] = 'Life, Physical, and Social Science Occupations'\n",
    "data.loc[(data.OCC <= 2060) & (data.OCC > 1965),'OCC2'] = 'Community and Social Services Occupations'\n",
    "data.loc[(data.OCC <= 2145) & (data.OCC > 2060),'OCC2'] = 'Legal Occupations'\n",
    "data.loc[(data.OCC <= 2550) & (data.OCC > 2145),'OCC2'] = 'Education, Training, and Library Occupations'\n",
    "data.loc[(data.OCC <= 2920) & (data.OCC > 2550),'OCC2'] = 'Arts, Design, Entertainment, Sports, and Media Occupations'\n",
    "data.loc[(data.OCC <= 3540) & (data.OCC > 2920),'OCC2'] = 'Healthcare Practitioners and Technical Occupations'\n",
    "data.loc[(data.OCC <= 3655) & (data.OCC > 3540),'OCC2'] = 'Healthcare Support Occupations'\n",
    "data.loc[(data.OCC <= 3955) & (data.OCC > 3655),'OCC2'] = 'Protective Service Occupations'\n",
    "data.loc[(data.OCC <= 4150) & (data.OCC > 3955),'OCC2'] = 'Food Preparation and Serving Occupations'\n",
    "data.loc[(data.OCC <= 4250) & (data.OCC > 4150),'OCC2'] = 'Building and Grounds Cleaning and Maintenance Occupations'\n",
    "data.loc[(data.OCC <= 4650) & (data.OCC > 4250),'OCC2'] = 'Personal Care and Service Occupations'\n",
    "data.loc[(data.OCC <= 4965) & (data.OCC > 4650),'OCC2'] = 'Sales and Related Occupations'\n",
    "data.loc[(data.OCC <= 5940) & (data.OCC > 4965),'OCC2'] = 'Office and Administrative Support Occupations'\n",
    "data.loc[(data.OCC <= 6130) & (data.OCC > 5940),'OCC2'] = 'Farming, Fishing, and Forestry Occupations'\n",
    "data.loc[(data.OCC <= 6765) & (data.OCC > 6130),'OCC2'] = 'Construction and Extraction Occupations'\n",
    "data.loc[(data.OCC <= 6940) & (data.OCC > 6765),'OCC2'] = 'Extraction Workers'\n",
    "data.loc[(data.OCC <= 7610) & (data.OCC > 6940),'OCC2'] = 'Installation, Maintenance, and Repair Workers'\n",
    "data.loc[(data.OCC <= 8950) & (data.OCC > 7610),'OCC2'] = 'Production Occupations'\n",
    "data.loc[(data.OCC <= 9750) & (data.OCC > 8950),'OCC2'] = 'Transportation and Material Moving Occupations'\n",
    "data.loc[(data.OCC <= 9920) & (data.OCC > 9750),'OCC2'] = 'Military Specific Occupations'\n",
    "data.loc[data.OCC == 430,'OCC2'] = 'Management, Business, Science, and Arts Occupations'\n",
    "data.loc[data.OCC == 726,'OCC2'] = 'Sales and Related Occupations'\n",
    "data.loc[data.OCC == 9050,'OCC2'] = 'Personal Care and Service Occupations'\n",
    "data.loc[data.OCC == 9415,'OCC2'] = 'Personal Care and Service Occupations'\n",
    "# Verify DIFFANY2 Values\n",
    "data.OCC2.value_counts()"
   ]
  },
  {
   "cell_type": "code",
   "execution_count": 25,
   "metadata": {},
   "outputs": [
    {
     "name": "stdout",
     "output_type": "stream",
     "text": [
      "YEAR\n",
      "0.95 18.307038053275146 848.4213580213875\n",
      "Dependent (reject H0)\n",
      "_________________________________________________\n",
      "SERIAL\n",
      "0.95 310138.8800634387 335685.023329885\n",
      "Dependent (reject H0)\n",
      "_________________________________________________\n",
      "MONTH\n",
      "0.95 nan 0.0\n",
      "Independent (fail to reject H0)\n",
      "_________________________________________________\n",
      "HWTFINL\n",
      "0.95 281728.1192688053 332884.4203439012\n",
      "Dependent (reject H0)\n",
      "_________________________________________________\n",
      "CPSID\n",
      "0.95 507380.37985995814 553385.2103241322\n",
      "Dependent (reject H0)\n",
      "_________________________________________________\n",
      "REGION\n",
      "0.95 55.75847927888702 1425.3451754982625\n",
      "Dependent (reject H0)\n",
      "_________________________________________________\n",
      "STATEFIP\n",
      "0.95 287.8815005218308 3507.093109038604\n",
      "Dependent (reject H0)\n",
      "_________________________________________________\n",
      "METRO\n",
      "0.95 31.410432844230918 832.1225472007814\n",
      "Dependent (reject H0)\n",
      "_________________________________________________\n",
      "COUNTY\n",
      "0.95 1940.9057864615093 5982.426993548565\n",
      "Dependent (reject H0)\n",
      "_________________________________________________\n",
      "FAMINC\n",
      "0.95 113.1452701425554 19779.617299982154\n",
      "Dependent (reject H0)\n",
      "_________________________________________________\n",
      "PERNUM\n",
      "0.95 84.82064549765667 1923.5930679987782\n",
      "Dependent (reject H0)\n",
      "_________________________________________________\n",
      "WTFINL\n",
      "0.95 345515.7699380393 462319.12543560704\n",
      "Dependent (reject H0)\n",
      "_________________________________________________\n",
      "CPSIDP\n",
      "0.95 809185.9357287408 807100.0000000001\n",
      "Independent (fail to reject H0)\n",
      "_________________________________________________\n",
      "AGE\n",
      "0.95 174.10098056972615 5265.681330867263\n",
      "Dependent (reject H0)\n",
      "_________________________________________________\n",
      "SEX\n",
      "0.95 11.070497693516351 7671.703805456218\n",
      "Dependent (reject H0)\n",
      "_________________________________________________\n",
      "RACE\n",
      "0.95 141.02970429440973 2364.7866904820894\n",
      "Dependent (reject H0)\n",
      "_________________________________________________\n",
      "MARST\n",
      "0.95 37.65248413348277 5480.068025199095\n",
      "Dependent (reject H0)\n",
      "_________________________________________________\n",
      "VETSTAT\n",
      "0.95 18.307038053275146 161764.8422639578\n",
      "Dependent (reject H0)\n",
      "_________________________________________________\n",
      "BPL\n",
      "0.95 913.7370849986937 3592.832892038127\n",
      "Dependent (reject H0)\n",
      "_________________________________________________\n",
      "YRIMMIG\n",
      "0.95 157.60992312288903 2922.172602087606\n",
      "Dependent (reject H0)\n",
      "_________________________________________________\n",
      "CITIZEN\n",
      "0.95 31.410432844230918 2715.50455066924\n",
      "Dependent (reject H0)\n",
      "_________________________________________________\n",
      "EMPSTAT\n",
      "0.95 49.80184956820181 807100.0\n",
      "Dependent (reject H0)\n",
      "_________________________________________________\n",
      "LABFORCE\n",
      "0.95 18.307038053275146 322840.0\n",
      "Dependent (reject H0)\n",
      "_________________________________________________\n",
      "OCC\n",
      "0.95 2975.3103161210706 159362.59859913267\n",
      "Dependent (reject H0)\n",
      "_________________________________________________\n",
      "IND\n",
      "0.95 1457.2218251201339 157822.7455044926\n",
      "Dependent (reject H0)\n",
      "_________________________________________________\n",
      "CLASSWKR\n",
      "0.95 61.65623337627955 316873.2021359124\n",
      "Dependent (reject H0)\n",
      "_________________________________________________\n",
      "DURUNEMP\n",
      "0.95 442.3406028617175 161420.0\n",
      "Dependent (reject H0)\n",
      "_________________________________________________\n",
      "WHYUNEMP\n",
      "0.95 43.77297182574219 161419.99999999997\n",
      "Dependent (reject H0)\n",
      "_________________________________________________\n",
      "WKSTAT\n",
      "0.95 73.31149302908324 322840.00000000006\n",
      "Dependent (reject H0)\n",
      "_________________________________________________\n",
      "NUMJOB\n",
      "0.95 24.995790139728616 2226.441198185903\n",
      "Dependent (reject H0)\n",
      "_________________________________________________\n",
      "EDUC\n",
      "0.95 96.21667075350383 8334.617635290833\n",
      "Dependent (reject H0)\n",
      "_________________________________________________\n",
      "SCHLCOLL\n",
      "0.95 37.65248413348277 2614.3146964981493\n",
      "Dependent (reject H0)\n",
      "_________________________________________________\n",
      "DIFFANY\n",
      "0.95 18.307038053275146 133251.43184903622\n",
      "Dependent (reject H0)\n",
      "_________________________________________________\n",
      "DURUNEMP2\n",
      "0.95 nan 0.0\n",
      "Independent (fail to reject H0)\n",
      "_________________________________________________\n",
      "CLASSWKR2\n",
      "0.95 18.307038053275146 154993.7495176486\n",
      "Dependent (reject H0)\n",
      "_________________________________________________\n",
      "REGION2\n",
      "0.95 55.75847927888702 1425.3451754982627\n",
      "Dependent (reject H0)\n",
      "_________________________________________________\n",
      "RACE2\n",
      "0.95 37.65248413348277 2203.3964891457995\n",
      "Dependent (reject H0)\n",
      "_________________________________________________\n",
      "SEX2\n",
      "0.95 11.070497693516351 7671.703805456218\n",
      "Dependent (reject H0)\n",
      "_________________________________________________\n",
      "MARST2\n",
      "0.95 18.307038053275146 4453.686748163395\n",
      "Dependent (reject H0)\n",
      "_________________________________________________\n",
      "YRIMMIG2\n",
      "0.95 157.60992312288903 2922.1726020876054\n",
      "Dependent (reject H0)\n",
      "_________________________________________________\n",
      "CITIZEN2\n",
      "0.95 31.410432844230918 2715.5045506692404\n",
      "Dependent (reject H0)\n",
      "_________________________________________________\n",
      "LABFORCE2\n",
      "0.95 18.307038053275146 322840.0\n",
      "Dependent (reject H0)\n",
      "_________________________________________________\n",
      "WKSTAT2\n",
      "0.95 18.307038053275146 132429.99999999997\n",
      "Dependent (reject H0)\n",
      "_________________________________________________\n",
      "WHYUNEMP2\n",
      "0.95 43.77297182574219 161420.0\n",
      "Dependent (reject H0)\n",
      "_________________________________________________\n",
      "EDUC2\n",
      "0.95 37.65248413348277 7575.586898788987\n",
      "Dependent (reject H0)\n",
      "_________________________________________________\n",
      "STATEFIP2\n",
      "0.95 287.8815005218308 3507.093109038604\n",
      "Dependent (reject H0)\n",
      "_________________________________________________\n",
      "NUMJOB2\n",
      "0.95 18.307038053275146 2226.441198185903\n",
      "Dependent (reject H0)\n",
      "_________________________________________________\n",
      "SCHLCOLL2\n",
      "0.95 37.65248413348277 2614.314696498149\n",
      "Dependent (reject H0)\n",
      "_________________________________________________\n",
      "METRO2\n",
      "0.95 31.410432844230918 832.1225472007815\n",
      "Dependent (reject H0)\n",
      "_________________________________________________\n",
      "VETSTAT2\n",
      "0.95 18.307038053275146 161764.84226395775\n",
      "Dependent (reject H0)\n",
      "_________________________________________________\n",
      "DIFFANY2\n",
      "0.95 18.307038053275146 32420.082089810985\n",
      "Dependent (reject H0)\n",
      "_________________________________________________\n",
      "IND2\n",
      "0.95 96.21667075350383 156313.04143076966\n",
      "Dependent (reject H0)\n",
      "_________________________________________________\n",
      "OCC2\n",
      "0.95 146.56735758076744 89707.1258746231\n",
      "Dependent (reject H0)\n",
      "_________________________________________________\n"
     ]
    }
   ],
   "source": [
    "# Run a chi-squared test to see which variables are significantly related to employment status\n",
    "data2 = data.drop(['EMPSTAT2'], axis=1)\n",
    "for column in data2:\n",
    "    variable_empstat=pd.crosstab(index=data['EMPSTAT2'],columns = data[column] ,colnames=[column])\n",
    "   # print(variable_empstat)\n",
    "   # print (\"\\n\")\n",
    "    stat, p, dof, expected = stats.chi2_contingency(variable_empstat)\n",
    "    critical = stats.chi2.ppf(0.95, dof)\n",
    "    print(column)\n",
    "    print(0.95, critical, stat)\n",
    "    if abs(stat) >= critical:\n",
    "        print('Dependent (reject H0)')\n",
    "    else:\n",
    "        print('Independent (fail to reject H0)')\n",
    "    print('_________________________________________________')"
   ]
  },
  {
   "cell_type": "code",
   "execution_count": 67,
   "metadata": {},
   "outputs": [
    {
     "data": {
      "text/html": [
       "<div>\n",
       "<style scoped>\n",
       "    .dataframe tbody tr th:only-of-type {\n",
       "        vertical-align: middle;\n",
       "    }\n",
       "\n",
       "    .dataframe tbody tr th {\n",
       "        vertical-align: top;\n",
       "    }\n",
       "\n",
       "    .dataframe thead th {\n",
       "        text-align: right;\n",
       "    }\n",
       "</style>\n",
       "<table border=\"1\" class=\"dataframe\">\n",
       "  <thead>\n",
       "    <tr style=\"text-align: right;\">\n",
       "      <th></th>\n",
       "      <th>YEAR</th>\n",
       "      <th>FAMINC</th>\n",
       "      <th>AGE</th>\n",
       "      <th>OCC2</th>\n",
       "      <th>IND2</th>\n",
       "      <th>RACE2</th>\n",
       "      <th>SEX2</th>\n",
       "      <th>MARST2</th>\n",
       "      <th>YRIMMIG2</th>\n",
       "      <th>CITIZEN2</th>\n",
       "      <th>EDUC2</th>\n",
       "      <th>STATEFIP2</th>\n",
       "      <th>METRO2</th>\n",
       "      <th>VETSTAT2</th>\n",
       "      <th>EMPSTAT2</th>\n",
       "    </tr>\n",
       "  </thead>\n",
       "  <tbody>\n",
       "    <tr>\n",
       "      <th>0</th>\n",
       "      <td>2006</td>\n",
       "      <td>600</td>\n",
       "      <td>35</td>\n",
       "      <td>Office and Administrative Support Occupations</td>\n",
       "      <td>Finance</td>\n",
       "      <td>White</td>\n",
       "      <td>Female</td>\n",
       "      <td>Single</td>\n",
       "      <td>NIU</td>\n",
       "      <td>Born in US</td>\n",
       "      <td>High School Diploma or Equivalent</td>\n",
       "      <td>Alabama</td>\n",
       "      <td>Not in metro area</td>\n",
       "      <td>No service</td>\n",
       "      <td>Employed</td>\n",
       "    </tr>\n",
       "    <tr>\n",
       "      <th>2</th>\n",
       "      <td>2006</td>\n",
       "      <td>500</td>\n",
       "      <td>50</td>\n",
       "      <td>Business Operations Specialists</td>\n",
       "      <td>Finance</td>\n",
       "      <td>White</td>\n",
       "      <td>Female</td>\n",
       "      <td>Seprated, divorced, or widowed</td>\n",
       "      <td>NIU</td>\n",
       "      <td>Born in US</td>\n",
       "      <td>Some College but No Degree</td>\n",
       "      <td>Alabama</td>\n",
       "      <td>Not in metro area</td>\n",
       "      <td>No service</td>\n",
       "      <td>Employed</td>\n",
       "    </tr>\n",
       "    <tr>\n",
       "      <th>6</th>\n",
       "      <td>2006</td>\n",
       "      <td>470</td>\n",
       "      <td>37</td>\n",
       "      <td>Office and Administrative Support Occupations</td>\n",
       "      <td>TransportationWharehousing</td>\n",
       "      <td>Black</td>\n",
       "      <td>Female</td>\n",
       "      <td>Seprated, divorced, or widowed</td>\n",
       "      <td>NIU</td>\n",
       "      <td>Born in US</td>\n",
       "      <td>High School Diploma or Equivalent</td>\n",
       "      <td>Alabama</td>\n",
       "      <td>Not in metro area</td>\n",
       "      <td>No service</td>\n",
       "      <td>Employed</td>\n",
       "    </tr>\n",
       "    <tr>\n",
       "      <th>10</th>\n",
       "      <td>2006</td>\n",
       "      <td>843</td>\n",
       "      <td>33</td>\n",
       "      <td>Sales and Related Occupations</td>\n",
       "      <td>WholesaleTrade</td>\n",
       "      <td>White</td>\n",
       "      <td>Female</td>\n",
       "      <td>Married</td>\n",
       "      <td>NIU</td>\n",
       "      <td>Born in US</td>\n",
       "      <td>Bachelors Degree</td>\n",
       "      <td>Alabama</td>\n",
       "      <td>Not in metro area</td>\n",
       "      <td>No service</td>\n",
       "      <td>Employed</td>\n",
       "    </tr>\n",
       "    <tr>\n",
       "      <th>11</th>\n",
       "      <td>2006</td>\n",
       "      <td>843</td>\n",
       "      <td>34</td>\n",
       "      <td>Legal Occupations</td>\n",
       "      <td>ProfessinalServices</td>\n",
       "      <td>White</td>\n",
       "      <td>Male</td>\n",
       "      <td>Married</td>\n",
       "      <td>NIU</td>\n",
       "      <td>Born in US</td>\n",
       "      <td>Graduate Degree</td>\n",
       "      <td>Alabama</td>\n",
       "      <td>Not in metro area</td>\n",
       "      <td>No service</td>\n",
       "      <td>Employed</td>\n",
       "    </tr>\n",
       "  </tbody>\n",
       "</table>\n",
       "</div>"
      ],
      "text/plain": [
       "    YEAR  FAMINC  AGE                                           OCC2  \\\n",
       "0   2006     600   35  Office and Administrative Support Occupations   \n",
       "2   2006     500   50                Business Operations Specialists   \n",
       "6   2006     470   37  Office and Administrative Support Occupations   \n",
       "10  2006     843   33                  Sales and Related Occupations   \n",
       "11  2006     843   34                              Legal Occupations   \n",
       "\n",
       "                          IND2  RACE2    SEX2                          MARST2  \\\n",
       "0                      Finance  White  Female                          Single   \n",
       "2                      Finance  White  Female  Seprated, divorced, or widowed   \n",
       "6   TransportationWharehousing  Black  Female  Seprated, divorced, or widowed   \n",
       "10              WholesaleTrade  White  Female                         Married   \n",
       "11         ProfessinalServices  White    Male                         Married   \n",
       "\n",
       "   YRIMMIG2    CITIZEN2                              EDUC2 STATEFIP2  \\\n",
       "0       NIU  Born in US  High School Diploma or Equivalent   Alabama   \n",
       "2       NIU  Born in US         Some College but No Degree   Alabama   \n",
       "6       NIU  Born in US  High School Diploma or Equivalent   Alabama   \n",
       "10      NIU  Born in US                   Bachelors Degree   Alabama   \n",
       "11      NIU  Born in US                    Graduate Degree   Alabama   \n",
       "\n",
       "               METRO2    VETSTAT2  EMPSTAT2  \n",
       "0   Not in metro area  No service  Employed  \n",
       "2   Not in metro area  No service  Employed  \n",
       "6   Not in metro area  No service  Employed  \n",
       "10  Not in metro area  No service  Employed  \n",
       "11  Not in metro area  No service  Employed  "
      ]
     },
     "execution_count": 67,
     "metadata": {},
     "output_type": "execute_result"
    }
   ],
   "source": [
    "# Keep the variables that have a significant correlation with EMPSTAT (reject H0)\n",
    "data = data[['YEAR','FAMINC','AGE','OCC2','IND2','RACE2','SEX2','MARST2','YRIMMIG2','CITIZEN2','EDUC2','STATEFIP2','METRO2','VETSTAT2','EMPSTAT2']]\n",
    "\n",
    "# Verify the dataset\n",
    "data.head()"
   ]
  },
  {
   "cell_type": "markdown",
   "metadata": {},
   "source": [
    "## Data Transformation"
   ]
  },
  {
   "cell_type": "code",
   "execution_count": 68,
   "metadata": {},
   "outputs": [],
   "source": [
    "#Establish the list of columns we want to encode\n",
    "Vars_to_transform = ['STATEFIP2',\n",
    "                     'METRO2',\n",
    "                     'FAMINC',\n",
    "                      'AGE',\n",
    "                      'OCC2',\n",
    "                      'IND2',\n",
    "                      'YRIMMIG2',\n",
    "                      'RACE2',\n",
    "                      'SEX2',\n",
    "                      'MARST2',\n",
    "                      'CITIZEN2',\n",
    "                      'EDUC2',\n",
    "                      'VETSTAT2',\n",
    "                    'EMPSTAT2']"
   ]
  },
  {
   "cell_type": "code",
   "execution_count": 69,
   "metadata": {},
   "outputs": [
    {
     "name": "stdout",
     "output_type": "stream",
     "text": [
      "I'm transforming STATEFIP2\n",
      "I'm transforming METRO2\n",
      "I'm transforming FAMINC\n",
      "I'm transforming AGE\n",
      "I'm transforming OCC2\n",
      "I'm transforming IND2\n"
     ]
    },
    {
     "ename": "TypeError",
     "evalue": "'<' not supported between instances of 'str' and 'float'",
     "output_type": "error",
     "traceback": [
      "\u001b[1;31m---------------------------------------------------------------------------\u001b[0m",
      "\u001b[1;31mTypeError\u001b[0m                                 Traceback (most recent call last)",
      "\u001b[1;32m<ipython-input-69-315f034819c5>\u001b[0m in \u001b[0;36m<module>\u001b[1;34m()\u001b[0m\n\u001b[0;32m      4\u001b[0m \u001b[1;32mfor\u001b[0m \u001b[0mD\u001b[0m \u001b[1;32min\u001b[0m \u001b[0mVars_to_transform\u001b[0m\u001b[1;33m:\u001b[0m\u001b[1;33m\u001b[0m\u001b[0m\n\u001b[0;32m      5\u001b[0m     \u001b[0mle\u001b[0m \u001b[1;33m=\u001b[0m \u001b[0mLabelEncoder\u001b[0m\u001b[1;33m(\u001b[0m\u001b[1;33m)\u001b[0m\u001b[1;33m\u001b[0m\u001b[0m\n\u001b[1;32m----> 6\u001b[1;33m     \u001b[0mdata_enc\u001b[0m\u001b[1;33m[\u001b[0m\u001b[0mD\u001b[0m\u001b[1;33m]\u001b[0m \u001b[1;33m=\u001b[0m \u001b[0mle\u001b[0m\u001b[1;33m.\u001b[0m\u001b[0mfit_transform\u001b[0m\u001b[1;33m(\u001b[0m\u001b[0mdata\u001b[0m\u001b[1;33m[\u001b[0m\u001b[0mD\u001b[0m\u001b[1;33m]\u001b[0m\u001b[1;33m)\u001b[0m\u001b[1;33m\u001b[0m\u001b[0m\n\u001b[0m\u001b[0;32m      7\u001b[0m     \u001b[0mencoders\u001b[0m\u001b[1;33m[\u001b[0m\u001b[0mD\u001b[0m\u001b[1;33m]\u001b[0m \u001b[1;33m=\u001b[0m \u001b[0mle\u001b[0m\u001b[1;33m\u001b[0m\u001b[0m\n\u001b[0;32m      8\u001b[0m     \u001b[0mprint\u001b[0m\u001b[1;33m(\u001b[0m\u001b[1;34m\"I'm transforming {}\"\u001b[0m\u001b[1;33m.\u001b[0m\u001b[0mformat\u001b[0m\u001b[1;33m(\u001b[0m\u001b[0mD\u001b[0m\u001b[1;33m)\u001b[0m\u001b[1;33m)\u001b[0m\u001b[1;33m\u001b[0m\u001b[0m\n",
      "\u001b[1;32mD:\\Anaconda\\lib\\site-packages\\sklearn\\preprocessing\\label.py\u001b[0m in \u001b[0;36mfit_transform\u001b[1;34m(self, y)\u001b[0m\n\u001b[0;32m    110\u001b[0m         \"\"\"\n\u001b[0;32m    111\u001b[0m         \u001b[0my\u001b[0m \u001b[1;33m=\u001b[0m \u001b[0mcolumn_or_1d\u001b[0m\u001b[1;33m(\u001b[0m\u001b[0my\u001b[0m\u001b[1;33m,\u001b[0m \u001b[0mwarn\u001b[0m\u001b[1;33m=\u001b[0m\u001b[1;32mTrue\u001b[0m\u001b[1;33m)\u001b[0m\u001b[1;33m\u001b[0m\u001b[0m\n\u001b[1;32m--> 112\u001b[1;33m         \u001b[0mself\u001b[0m\u001b[1;33m.\u001b[0m\u001b[0mclasses_\u001b[0m\u001b[1;33m,\u001b[0m \u001b[0my\u001b[0m \u001b[1;33m=\u001b[0m \u001b[0mnp\u001b[0m\u001b[1;33m.\u001b[0m\u001b[0munique\u001b[0m\u001b[1;33m(\u001b[0m\u001b[0my\u001b[0m\u001b[1;33m,\u001b[0m \u001b[0mreturn_inverse\u001b[0m\u001b[1;33m=\u001b[0m\u001b[1;32mTrue\u001b[0m\u001b[1;33m)\u001b[0m\u001b[1;33m\u001b[0m\u001b[0m\n\u001b[0m\u001b[0;32m    113\u001b[0m         \u001b[1;32mreturn\u001b[0m \u001b[0my\u001b[0m\u001b[1;33m\u001b[0m\u001b[0m\n\u001b[0;32m    114\u001b[0m \u001b[1;33m\u001b[0m\u001b[0m\n",
      "\u001b[1;32mD:\\Anaconda\\lib\\site-packages\\numpy\\lib\\arraysetops.py\u001b[0m in \u001b[0;36munique\u001b[1;34m(ar, return_index, return_inverse, return_counts, axis)\u001b[0m\n\u001b[0;32m    221\u001b[0m     \u001b[0mar\u001b[0m \u001b[1;33m=\u001b[0m \u001b[0mnp\u001b[0m\u001b[1;33m.\u001b[0m\u001b[0masanyarray\u001b[0m\u001b[1;33m(\u001b[0m\u001b[0mar\u001b[0m\u001b[1;33m)\u001b[0m\u001b[1;33m\u001b[0m\u001b[0m\n\u001b[0;32m    222\u001b[0m     \u001b[1;32mif\u001b[0m \u001b[0maxis\u001b[0m \u001b[1;32mis\u001b[0m \u001b[1;32mNone\u001b[0m\u001b[1;33m:\u001b[0m\u001b[1;33m\u001b[0m\u001b[0m\n\u001b[1;32m--> 223\u001b[1;33m         \u001b[1;32mreturn\u001b[0m \u001b[0m_unique1d\u001b[0m\u001b[1;33m(\u001b[0m\u001b[0mar\u001b[0m\u001b[1;33m,\u001b[0m \u001b[0mreturn_index\u001b[0m\u001b[1;33m,\u001b[0m \u001b[0mreturn_inverse\u001b[0m\u001b[1;33m,\u001b[0m \u001b[0mreturn_counts\u001b[0m\u001b[1;33m)\u001b[0m\u001b[1;33m\u001b[0m\u001b[0m\n\u001b[0m\u001b[0;32m    224\u001b[0m     \u001b[1;32mif\u001b[0m \u001b[1;32mnot\u001b[0m \u001b[1;33m(\u001b[0m\u001b[1;33m-\u001b[0m\u001b[0mar\u001b[0m\u001b[1;33m.\u001b[0m\u001b[0mndim\u001b[0m \u001b[1;33m<=\u001b[0m \u001b[0maxis\u001b[0m \u001b[1;33m<\u001b[0m \u001b[0mar\u001b[0m\u001b[1;33m.\u001b[0m\u001b[0mndim\u001b[0m\u001b[1;33m)\u001b[0m\u001b[1;33m:\u001b[0m\u001b[1;33m\u001b[0m\u001b[0m\n\u001b[0;32m    225\u001b[0m         \u001b[1;32mraise\u001b[0m \u001b[0mValueError\u001b[0m\u001b[1;33m(\u001b[0m\u001b[1;34m'Invalid axis kwarg specified for unique'\u001b[0m\u001b[1;33m)\u001b[0m\u001b[1;33m\u001b[0m\u001b[0m\n",
      "\u001b[1;32mD:\\Anaconda\\lib\\site-packages\\numpy\\lib\\arraysetops.py\u001b[0m in \u001b[0;36m_unique1d\u001b[1;34m(ar, return_index, return_inverse, return_counts)\u001b[0m\n\u001b[0;32m    278\u001b[0m \u001b[1;33m\u001b[0m\u001b[0m\n\u001b[0;32m    279\u001b[0m     \u001b[1;32mif\u001b[0m \u001b[0moptional_indices\u001b[0m\u001b[1;33m:\u001b[0m\u001b[1;33m\u001b[0m\u001b[0m\n\u001b[1;32m--> 280\u001b[1;33m         \u001b[0mperm\u001b[0m \u001b[1;33m=\u001b[0m \u001b[0mar\u001b[0m\u001b[1;33m.\u001b[0m\u001b[0margsort\u001b[0m\u001b[1;33m(\u001b[0m\u001b[0mkind\u001b[0m\u001b[1;33m=\u001b[0m\u001b[1;34m'mergesort'\u001b[0m \u001b[1;32mif\u001b[0m \u001b[0mreturn_index\u001b[0m \u001b[1;32melse\u001b[0m \u001b[1;34m'quicksort'\u001b[0m\u001b[1;33m)\u001b[0m\u001b[1;33m\u001b[0m\u001b[0m\n\u001b[0m\u001b[0;32m    281\u001b[0m         \u001b[0maux\u001b[0m \u001b[1;33m=\u001b[0m \u001b[0mar\u001b[0m\u001b[1;33m[\u001b[0m\u001b[0mperm\u001b[0m\u001b[1;33m]\u001b[0m\u001b[1;33m\u001b[0m\u001b[0m\n\u001b[0;32m    282\u001b[0m     \u001b[1;32melse\u001b[0m\u001b[1;33m:\u001b[0m\u001b[1;33m\u001b[0m\u001b[0m\n",
      "\u001b[1;31mTypeError\u001b[0m: '<' not supported between instances of 'str' and 'float'"
     ]
    }
   ],
   "source": [
    "#Transform columns (col by col) and overwrite the existing columns, then save the dictionary in encoders\n",
    "encoders = {}\n",
    "data_enc = pd.DataFrame()\n",
    "for D in Vars_to_transform:\n",
    "    le = LabelEncoder()\n",
    "    data_enc[D] = le.fit_transform(data[D])\n",
    "    encoders[D] = le\n",
    "    print(\"I'm transforming {}\".format(D))\n",
    "data_enc.head()"
   ]
  },
  {
   "cell_type": "code",
   "execution_count": null,
   "metadata": {},
   "outputs": [],
   "source": [
    "#Join the initial column Year with the encoded data\n",
    "data_enc2 = data_enc.join(data['YEAR'], how = 'left')\n",
    "data_enc2.head()"
   ]
  },
  {
   "cell_type": "code",
   "execution_count": null,
   "metadata": {},
   "outputs": [],
   "source": [
    "# Split into three different datasets by year\n",
    "data2016 = data_enc2[data_enc2['YEAR'] == 2016]\n",
    "data2011 = data_enc2[data_enc2['YEAR'] == 2011]\n",
    "data2006 = data_enc2[data_enc2['YEAR'] == 2006]\n",
    "\n",
    "# Drop the year variable\n",
    "data2016 = data2016.drop(['YEAR'], axis=1)\n",
    "data2011 = data2011.drop(['YEAR'], axis=1)\n",
    "data2006 = data2006.drop(['YEAR'], axis=1)\n",
    "\n",
    "# Verify the datasets\n",
    "print(data2006.head())\n",
    "print(data2011.head())\n",
    "print(data2016.head())"
   ]
  },
  {
   "cell_type": "markdown",
   "metadata": {},
   "source": [
    "# Save the data to file"
   ]
  },
  {
   "cell_type": "code",
   "execution_count": null,
   "metadata": {},
   "outputs": [],
   "source": [
    "# Writing cleaned data to four separate files\n",
    "data_2016 = data2016.to_csv('data2016.csv', index = None, header = True)\n",
    "data_2011 = data2011.to_csv('data2011.csv', index = None, header = True)\n",
    "data_2006 = data2006.to_csv('data2006.csv', index = None, header = True)\n",
    "data_enc2 = data.to_csv('IPUMS_CPS_Clean.csv', index = None, header=True)"
   ]
  },
  {
   "cell_type": "code",
   "execution_count": 29,
   "metadata": {},
   "outputs": [],
   "source": [
    "# Create dateset for unemployed (need to decide whether we want this still)\n",
    "data2006unemp = data2006[data2006['EMPSTAT2'] == \"Unemployed\"]\n",
    "data2006unemp = data.to_csv('data2006unemp.csv', index = None, header=True)\n",
    "\n",
    "data2011unemp = data2011[data2011['EMPSTAT2'] == \"Unemployed\"]\n",
    "data2011unemp = data.to_csv('data2011unemp.csv', index = None, header=True)\n",
    "\n",
    "data2016unemp = data2016[data2016['EMPSTAT2'] == \"Unemployed\"]\n",
    "data2016unemp = data.to_csv('data2016unemp.csv', index = None, header=True)"
   ]
  },
  {
   "cell_type": "markdown",
   "metadata": {},
   "source": [
    "data2006unemp = data2006unemp.to_csv('data2006unemp.csv', index = None, header = True)\n",
    "data2011unemp = data2011unemp.to_csv('data2011unemp.csv', index = None, header = True)\n",
    "data2016unemp = data2016unemp.to_csv('data2016unemp.csv', index = None, header = True)"
   ]
  }
 ],
 "metadata": {
  "kernelspec": {
   "display_name": "Python 3",
   "language": "python",
   "name": "python3"
  },
  "language_info": {
   "codemirror_mode": {
    "name": "ipython",
    "version": 3
   },
   "file_extension": ".py",
   "mimetype": "text/x-python",
   "name": "python",
   "nbconvert_exporter": "python",
   "pygments_lexer": "ipython3",
   "version": "3.6.5"
  }
 },
 "nbformat": 4,
 "nbformat_minor": 2
}
